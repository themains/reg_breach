{
 "cells": [
  {
   "cell_type": "markdown",
   "id": "bc33c507-f903-467a-9506-4ae6ced5f90a",
   "metadata": {},
   "source": [
    "### Valid Email Or Not# Left join voter"
   ]
  },
  {
   "cell_type": "code",
   "execution_count": 6,
   "id": "7d33d3fd-ff46-4737-86e7-df578937b539",
   "metadata": {},
   "outputs": [],
   "source": [
    "from pyisemail import is_email\n",
    "import pandas as pd\n",
    "import logging"
   ]
  },
  {
   "cell_type": "code",
   "execution_count": 7,
   "id": "cab31525-8743-42b1-bdbb-f0fdebffb268",
   "metadata": {},
   "outputs": [],
   "source": [
    "# Configure the logging settings\n",
    "log_file = \"valid_email_or_not.txt\"\n",
    "logging.basicConfig(filename=log_file, level=logging.ERROR, format='%(asctime)s - %(message)s')"
   ]
  },
  {
   "cell_type": "code",
   "execution_count": 2,
   "id": "3a8f84a1-704d-4991-abab-19efa7be4b6f",
   "metadata": {},
   "outputs": [],
   "source": [
    "# Left join voter\n",
    "voter_df = pd.read_csv(\"fl_emails.csv\")\n",
    "voter_df['is_valid_email'] = voter_df['email'].apply(lambda x: is_email(x)) "
   ]
  },
  {
   "cell_type": "code",
   "execution_count": 3,
   "id": "86349728-ad26-42a2-9ae8-bdb5e2d09647",
   "metadata": {},
   "outputs": [
    {
     "data": {
      "text/plain": [
       "0.9686569582637659"
      ]
     },
     "execution_count": 3,
     "metadata": {},
     "output_type": "execute_result"
    }
   ],
   "source": [
    "voter_df['is_valid_email'].sum()/voter_df.shape[0]"
   ]
  },
  {
   "cell_type": "code",
   "execution_count": 8,
   "id": "3f7e5041-ad7d-41e6-ae0f-e1699f744e96",
   "metadata": {},
   "outputs": [],
   "source": [
    "def is_email_with_dns_check(email):\n",
    "    try:\n",
    "        return is_email(email, check_dns=True)\n",
    "    except Exception as e:\n",
    "        # Log the exception to the error log file\n",
    "        logging.error(f\"An error occurred for email '{email}': {e}\")\n",
    "        return False\n",
    "\n",
    "voter_df['is_valid_email_dns'] = voter_df['email'].apply(is_email_with_dns_check)"
   ]
  },
  {
   "cell_type": "code",
   "execution_count": 10,
   "id": "8f18212d-1833-4339-81b6-9d13ee94eb49",
   "metadata": {},
   "outputs": [
    {
     "data": {
      "text/plain": [
       "0.9604394835668352"
      ]
     },
     "execution_count": 10,
     "metadata": {},
     "output_type": "execute_result"
    }
   ],
   "source": [
    "voter_df['is_valid_email_dns'].sum()/voter_df.shape[0]"
   ]
  },
  {
   "cell_type": "code",
   "execution_count": 11,
   "id": "2e20f337-47c8-4385-b756-af0cf37008a7",
   "metadata": {},
   "outputs": [],
   "source": [
    "voter_df.to_csv(\"fl_emails_valid_or_not.csv\", index = False)"
   ]
  },
  {
   "cell_type": "code",
   "execution_count": null,
   "id": "09c3c143-4d77-4ce4-a53f-74b89c25ba46",
   "metadata": {},
   "outputs": [],
   "source": []
  }
 ],
 "metadata": {
  "kernelspec": {
   "display_name": "Python 3 (ipykernel)",
   "language": "python",
   "name": "python3"
  },
  "language_info": {
   "codemirror_mode": {
    "name": "ipython",
    "version": 3
   },
   "file_extension": ".py",
   "mimetype": "text/x-python",
   "name": "python",
   "nbconvert_exporter": "python",
   "pygments_lexer": "ipython3",
   "version": "3.8.10"
  }
 },
 "nbformat": 4,
 "nbformat_minor": 5
}
