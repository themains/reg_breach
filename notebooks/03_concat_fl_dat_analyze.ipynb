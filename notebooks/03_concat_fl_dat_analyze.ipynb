{
 "cells": [
  {
   "cell_type": "markdown",
   "id": "ca1411f4-b589-4d10-8812-69b9248d4ea7",
   "metadata": {},
   "source": [
    "### Concat all HIBP and Analyze"
   ]
  },
  {
   "cell_type": "code",
   "execution_count": 1,
   "id": "f5db6b26-317f-4daf-9d5b-7e4d384b7f31",
   "metadata": {},
   "outputs": [],
   "source": [
    "import glob\n",
    "import os\n",
    "import re\n",
    "import logging\n",
    "import pandas as pd\n",
    "from tqdm import tqdm\n",
    "from multiprocessing import Pool"
   ]
  },
  {
   "cell_type": "code",
   "execution_count": 2,
   "id": "91243c96-1c4b-4337-a104-f9841ae748a0",
   "metadata": {},
   "outputs": [
    {
     "name": "stderr",
     "output_type": "stream",
     "text": [
      "Processing JSON files: 100%|█████████████████████████████████████████████████████████████████████████████████████| 303658/303658 [03:24<00:00, 1485.20file/s]\n"
     ]
    }
   ],
   "source": [
    "# Directory path containing JSON files\n",
    "directory = 'pwned/'\n",
    "\n",
    "logging.basicConfig(filename='error_log_read_json.log', level=logging.ERROR,\n",
    "                    format='%(asctime)s - %(levelname)s - %(message)s')\n",
    "\n",
    "# Get list of JSON file paths in the directory\n",
    "json_files = glob.glob(directory + '/*.json')\n",
    "\n",
    "# Define a function for processing a JSON file\n",
    "def process_json_file(file):\n",
    "    try:\n",
    "        df = pd.read_json(file)\n",
    "        file_name = os.path.basename(file).rstrip('.json')\n",
    "        df['file_name'] = file_name\n",
    "        return df\n",
    "    except ValueError as e:\n",
    "        logging.error(f\"Error reading file: {file}. Error message: {e}\")\n",
    "        return None\n",
    "\n",
    "# Create a pool of worker processes\n",
    "pool = Pool()\n",
    "\n",
    "# Create a progress bar with tqdm\n",
    "progress_bar = tqdm(total=len(json_files), desc=\"Processing JSON files\", unit=\"file\")\n",
    "\n",
    "# Process JSON files in parallel\n",
    "results = []\n",
    "for df in pool.imap_unordered(process_json_file, json_files):\n",
    "    results.append(df)\n",
    "    progress_bar.update(1)\n",
    "\n",
    "# Close the pool of worker processes\n",
    "pool.close()\n",
    "pool.join()\n",
    "\n",
    "# Close the progress bar\n",
    "progress_bar.close()"
   ]
  },
  {
   "cell_type": "code",
   "execution_count": 3,
   "id": "652c7b05-380b-4b7c-829c-d9a41926fff1",
   "metadata": {},
   "outputs": [],
   "source": [
    "# Concatenate the list of DataFrames into a single DataFrame\n",
    "combined_df = pd.concat(results, ignore_index=True)"
   ]
  },
  {
   "cell_type": "code",
   "execution_count": 4,
   "id": "219be3ac-f0f3-4b0e-b3d9-19ecaa53ffa2",
   "metadata": {},
   "outputs": [],
   "source": [
    "combined_df.rename(columns={'file_name': 'email'}, inplace = True)"
   ]
  },
  {
   "cell_type": "code",
   "execution_count": 5,
   "id": "3e170234-2316-4b26-b101-5b9cecb29220",
   "metadata": {},
   "outputs": [],
   "source": [
    "breaches = pd.read_json('breaches.json')"
   ]
  },
  {
   "cell_type": "code",
   "execution_count": 6,
   "id": "e037b515-8279-4413-a88a-491163fb3b09",
   "metadata": {},
   "outputs": [
    {
     "data": {
      "text/plain": [
       "(2290840, 17)"
      ]
     },
     "execution_count": 6,
     "metadata": {},
     "output_type": "execute_result"
    }
   ],
   "source": [
    "breached_email_df = pd.merge(combined_df, breaches, on='Name')\n",
    "breached_email_df.shape"
   ]
  },
  {
   "cell_type": "markdown",
   "id": "d785bbfc-e7ab-41ac-a5e9-80b878b2f738",
   "metadata": {},
   "source": [
    "### Let's create an email level dataset for which we have breaches"
   ]
  },
  {
   "cell_type": "markdown",
   "id": "f6568e14-914f-4b02-916b-0b8646c257ab",
   "metadata": {},
   "source": [
    "#### Non-fab\n",
    "https://haveibeenpwned.com/FAQs#FabricatedBreach"
   ]
  },
  {
   "cell_type": "code",
   "execution_count": 7,
   "id": "7a123c0e-ddb8-47f3-83d9-39d21920bb50",
   "metadata": {},
   "outputs": [],
   "source": [
    "breached_email_df['non_fab'] = ~breached_email_df['IsFabricated'].fillna(1)"
   ]
  },
  {
   "cell_type": "markdown",
   "id": "5e4142c6-d05f-47da-89ea-ed43c6b186b4",
   "metadata": {},
   "source": [
    "#### Serious Dataclasses Breached \n",
    "Either data that will help you hack your other accounts, e.g., Mother's Maiden Name, or sensitive personal information"
   ]
  },
  {
   "cell_type": "code",
   "execution_count": 8,
   "id": "ed7c97c3-fc95-4be8-bae1-e74465de5973",
   "metadata": {},
   "outputs": [],
   "source": [
    "serious_dataclasses = [\"Audio recordings\",\n",
    "\"Auth tokens\",\n",
    "\"Bank account numbers\",\n",
    "\"Biometric data\",\n",
    "\"Browsing histories\",\n",
    "\"Chat logs\",\n",
    "\"Credit card CVV\",\n",
    "\"Credit cards\",\n",
    "\"Credit status information\",\n",
    "\"Drinking habits\",\n",
    "\"Driver's licenses\",\n",
    "\"Drug habits\",\n",
    "\"Email messages\",\n",
    "\"Encrypted keys\",\n",
    "\"Government issued IDs\",\n",
    "\"Health insurance information\",\n",
    "\"Historical passwords\", #account cracking\n",
    "\"HIV statuses\",\n",
    "#\"Mothers maiden names\", #account cracking\n",
    "\"Partial credit card data\",\n",
    "\"Passport numbers\",\n",
    "\"Password hints\",\n",
    "\"Passwords\",\n",
    "\"Personal health data\",\n",
    "\"Photos\",\n",
    "\"PINs\",\n",
    "\"Places of birth\", #account cracking\n",
    "\"Private messages\",\n",
    "\"Security questions and answers\",\n",
    "\"Sexual fetishes\",\n",
    "\"Sexual orientations\",\n",
    "\"SMS messages\",\n",
    "\"Social security numbers\",\n",
    "\"Taxation records\"]"
   ]
  },
  {
   "cell_type": "code",
   "execution_count": 9,
   "id": "544f4506-c21a-49c2-ad78-084a5b31a0e8",
   "metadata": {},
   "outputs": [],
   "source": [
    "breached_email_df['serious'] = breached_email_df['DataClasses'].apply(lambda x: any(string in x for string in serious_dataclasses))"
   ]
  },
  {
   "cell_type": "code",
   "execution_count": 10,
   "id": "4900d65b-76bb-40cd-8b09-d88409656c11",
   "metadata": {},
   "outputs": [
    {
     "data": {
      "text/html": [
       "<div>\n",
       "<style scoped>\n",
       "    .dataframe tbody tr th:only-of-type {\n",
       "        vertical-align: middle;\n",
       "    }\n",
       "\n",
       "    .dataframe tbody tr th {\n",
       "        vertical-align: top;\n",
       "    }\n",
       "\n",
       "    .dataframe thead th {\n",
       "        text-align: right;\n",
       "    }\n",
       "</style>\n",
       "<table border=\"1\" class=\"dataframe\">\n",
       "  <thead>\n",
       "    <tr style=\"text-align: right;\">\n",
       "      <th></th>\n",
       "      <th>email</th>\n",
       "      <th>total_breaches</th>\n",
       "      <th>serious_breaches</th>\n",
       "      <th>non_fab_breaches</th>\n",
       "      <th>non_null_uniques</th>\n",
       "    </tr>\n",
       "  </thead>\n",
       "  <tbody>\n",
       "    <tr>\n",
       "      <th>0</th>\n",
       "      <td>000JWA@GMAIL.COM</td>\n",
       "      <td>2</td>\n",
       "      <td>1</td>\n",
       "      <td>2</td>\n",
       "      <td>2</td>\n",
       "    </tr>\n",
       "    <tr>\n",
       "      <th>1</th>\n",
       "      <td>000uly@gmail.com</td>\n",
       "      <td>9</td>\n",
       "      <td>7</td>\n",
       "      <td>9</td>\n",
       "      <td>9</td>\n",
       "    </tr>\n",
       "    <tr>\n",
       "      <th>2</th>\n",
       "      <td>007@nauticalventures.com</td>\n",
       "      <td>5</td>\n",
       "      <td>2</td>\n",
       "      <td>5</td>\n",
       "      <td>5</td>\n",
       "    </tr>\n",
       "    <tr>\n",
       "      <th>3</th>\n",
       "      <td>007WTM@GMAIL.COM</td>\n",
       "      <td>4</td>\n",
       "      <td>2</td>\n",
       "      <td>4</td>\n",
       "      <td>4</td>\n",
       "    </tr>\n",
       "    <tr>\n",
       "      <th>4</th>\n",
       "      <td>00FLAB@GMAIL.COM</td>\n",
       "      <td>16</td>\n",
       "      <td>9</td>\n",
       "      <td>16</td>\n",
       "      <td>16</td>\n",
       "    </tr>\n",
       "    <tr>\n",
       "      <th>...</th>\n",
       "      <td>...</td>\n",
       "      <td>...</td>\n",
       "      <td>...</td>\n",
       "      <td>...</td>\n",
       "      <td>...</td>\n",
       "    </tr>\n",
       "    <tr>\n",
       "      <th>303652</th>\n",
       "      <td>zzgg123@aol.com</td>\n",
       "      <td>8</td>\n",
       "      <td>4</td>\n",
       "      <td>8</td>\n",
       "      <td>8</td>\n",
       "    </tr>\n",
       "    <tr>\n",
       "      <th>303653</th>\n",
       "      <td>zzotter@hotmail.com</td>\n",
       "      <td>26</td>\n",
       "      <td>18</td>\n",
       "      <td>26</td>\n",
       "      <td>26</td>\n",
       "    </tr>\n",
       "    <tr>\n",
       "      <th>303654</th>\n",
       "      <td>zzouiten@hotmail.com</td>\n",
       "      <td>10</td>\n",
       "      <td>7</td>\n",
       "      <td>10</td>\n",
       "      <td>10</td>\n",
       "    </tr>\n",
       "    <tr>\n",
       "      <th>303655</th>\n",
       "      <td>zzzack53@gmail.com</td>\n",
       "      <td>3</td>\n",
       "      <td>0</td>\n",
       "      <td>3</td>\n",
       "      <td>3</td>\n",
       "    </tr>\n",
       "    <tr>\n",
       "      <th>303656</th>\n",
       "      <td>zzzulick@gmail.com</td>\n",
       "      <td>6</td>\n",
       "      <td>3</td>\n",
       "      <td>6</td>\n",
       "      <td>6</td>\n",
       "    </tr>\n",
       "  </tbody>\n",
       "</table>\n",
       "<p>303657 rows × 5 columns</p>\n",
       "</div>"
      ],
      "text/plain": [
       "                           email  total_breaches  serious_breaches  \\\n",
       "0               000JWA@GMAIL.COM               2                 1   \n",
       "1               000uly@gmail.com               9                 7   \n",
       "2       007@nauticalventures.com               5                 2   \n",
       "3               007WTM@GMAIL.COM               4                 2   \n",
       "4               00FLAB@GMAIL.COM              16                 9   \n",
       "...                          ...             ...               ...   \n",
       "303652           zzgg123@aol.com               8                 4   \n",
       "303653       zzotter@hotmail.com              26                18   \n",
       "303654      zzouiten@hotmail.com              10                 7   \n",
       "303655        zzzack53@gmail.com               3                 0   \n",
       "303656        zzzulick@gmail.com               6                 3   \n",
       "\n",
       "        non_fab_breaches  non_null_uniques  \n",
       "0                      2                 2  \n",
       "1                      9                 9  \n",
       "2                      5                 5  \n",
       "3                      4                 4  \n",
       "4                     16                16  \n",
       "...                  ...               ...  \n",
       "303652                 8                 8  \n",
       "303653                26                26  \n",
       "303654                10                10  \n",
       "303655                 3                 3  \n",
       "303656                 6                 6  \n",
       "\n",
       "[303657 rows x 5 columns]"
      ]
     },
     "execution_count": 10,
     "metadata": {},
     "output_type": "execute_result"
    }
   ],
   "source": [
    "br_email_df = breached_email_df.assign(count=1).\\\n",
    "    groupby('email').\\\n",
    "    agg(total_breaches = ('count', 'sum'),\n",
    "    serious_breaches   = ('serious', 'sum'),\n",
    "    non_fab_breaches   = ('non_fab', 'sum'),\n",
    "    non_null_uniques   = ('Name', 'nunique')\n",
    ").reset_index()\n",
    "br_email_df"
   ]
  },
  {
   "cell_type": "markdown",
   "id": "78c11ade-cc44-44fb-9b7f-422ac4435aa5",
   "metadata": {},
   "source": [
    "### Join to Currently Processed Valid Email List"
   ]
  },
  {
   "cell_type": "code",
   "execution_count": 11,
   "id": "ad39e028-ab84-422a-a5da-dbac6d2abeec",
   "metadata": {},
   "outputs": [],
   "source": [
    "# Get list of currently processed emails from the logs\n",
    "\n",
    "def extract_email(log_message):\n",
    "    if \"INFO - Saved\" in log_message:\n",
    "        start_index = log_message.find(\"Saved\") + 6  # Length of \"Saved\" + space\n",
    "        end_index = log_message.find(\"\\n\")\n",
    "    elif \"Error processing\" in log_message and \": 404\" in log_message:\n",
    "        start_index = log_message.find(\"Error processing\") + 18  # Length of \"Error processing\" + space\n",
    "        end_index = log_message.find(\": 404\") # Length of \": 404\" + space\n",
    "    else:\n",
    "        return None\n",
    "\n",
    "    email = log_message[start_index:end_index].strip()\n",
    "    return email\n",
    "\n",
    "# Read the log file into a list of lines\n",
    "with open('pwned.log', 'r') as file:\n",
    "    log_lines = file.readlines()\n",
    "\n",
    "# Extract emails from log messages and create a list of email addresses\n",
    "emails = [extract_email(log_line) for log_line in log_lines if \"Saved\" in log_line or (\"Error processing\" in log_line and \": 404\" in log_line)]"
   ]
  },
  {
   "cell_type": "code",
   "execution_count": 12,
   "id": "1094f80e-edef-4a12-abb4-2f1fb1125dad",
   "metadata": {},
   "outputs": [
    {
     "name": "stdout",
     "output_type": "stream",
     "text": [
      "381144\n",
      "23\n"
     ]
    },
    {
     "data": {
      "text/plain": [
       "(363287, 1)"
      ]
     },
     "execution_count": 12,
     "metadata": {},
     "output_type": "execute_result"
    }
   ],
   "source": [
    "# Subset to non empty uniques\n",
    "print(len(emails))\n",
    "print(len(emails[emails == '']))\n",
    "\n",
    "unique_not_empty_emails = [e for e in set(emails) if e.strip()]\n",
    "parsed_emails = pd.DataFrame({\"email\": unique_not_empty_emails})\n",
    "parsed_emails.shape"
   ]
  },
  {
   "cell_type": "code",
   "execution_count": 13,
   "id": "2dc66c78-1197-4235-ae0b-f39ca85c10fa",
   "metadata": {},
   "outputs": [
    {
     "data": {
      "text/plain": [
       "(308558, 5)"
      ]
     },
     "execution_count": 13,
     "metadata": {},
     "output_type": "execute_result"
    }
   ],
   "source": [
    "# Merge parsed to valid emails (assuming our population is valid emails)\n",
    "voter_df = pd.read_csv(\"fl_emails_valid_or_not.csv\")\n",
    "\n",
    "parsed_voter = parsed_emails.merge(voter_df, how = 'left')\n",
    "parsed_valid = parsed_voter[parsed_voter['is_valid_email'] == True]\n",
    "parsed_valid.shape"
   ]
  },
  {
   "cell_type": "code",
   "execution_count": 14,
   "id": "70fef74e-2994-4288-8231-8f046cd4c452",
   "metadata": {},
   "outputs": [],
   "source": [
    "# Merge breaches to parsed\n",
    "fin_df = pd.merge(parsed_valid, br_email_df, how = 'left', on = 'email')"
   ]
  },
  {
   "cell_type": "code",
   "execution_count": 15,
   "id": "41f96b33-91b6-4860-b77f-ce5813a32801",
   "metadata": {},
   "outputs": [
    {
     "data": {
      "text/html": [
       "<div>\n",
       "<style scoped>\n",
       "    .dataframe tbody tr th:only-of-type {\n",
       "        vertical-align: middle;\n",
       "    }\n",
       "\n",
       "    .dataframe tbody tr th {\n",
       "        vertical-align: top;\n",
       "    }\n",
       "\n",
       "    .dataframe thead th {\n",
       "        text-align: right;\n",
       "    }\n",
       "</style>\n",
       "<table border=\"1\" class=\"dataframe\">\n",
       "  <thead>\n",
       "    <tr style=\"text-align: right;\">\n",
       "      <th></th>\n",
       "      <th>total_breaches</th>\n",
       "      <th>serious_breaches</th>\n",
       "      <th>non_fab_breaches</th>\n",
       "      <th>non_null_uniques</th>\n",
       "    </tr>\n",
       "  </thead>\n",
       "  <tbody>\n",
       "    <tr>\n",
       "      <th>count</th>\n",
       "      <td>308558.000000</td>\n",
       "      <td>308558.000000</td>\n",
       "      <td>308558.000000</td>\n",
       "      <td>308558.000000</td>\n",
       "    </tr>\n",
       "    <tr>\n",
       "      <th>mean</th>\n",
       "      <td>7.554077</td>\n",
       "      <td>4.519870</td>\n",
       "      <td>7.554055</td>\n",
       "      <td>7.554077</td>\n",
       "    </tr>\n",
       "    <tr>\n",
       "      <th>std</th>\n",
       "      <td>5.877800</td>\n",
       "      <td>4.123446</td>\n",
       "      <td>5.877667</td>\n",
       "      <td>5.877800</td>\n",
       "    </tr>\n",
       "    <tr>\n",
       "      <th>min</th>\n",
       "      <td>0.000000</td>\n",
       "      <td>0.000000</td>\n",
       "      <td>0.000000</td>\n",
       "      <td>0.000000</td>\n",
       "    </tr>\n",
       "    <tr>\n",
       "      <th>25%</th>\n",
       "      <td>3.000000</td>\n",
       "      <td>2.000000</td>\n",
       "      <td>3.000000</td>\n",
       "      <td>3.000000</td>\n",
       "    </tr>\n",
       "    <tr>\n",
       "      <th>50%</th>\n",
       "      <td>6.000000</td>\n",
       "      <td>4.000000</td>\n",
       "      <td>6.000000</td>\n",
       "      <td>6.000000</td>\n",
       "    </tr>\n",
       "    <tr>\n",
       "      <th>75%</th>\n",
       "      <td>11.000000</td>\n",
       "      <td>7.000000</td>\n",
       "      <td>11.000000</td>\n",
       "      <td>11.000000</td>\n",
       "    </tr>\n",
       "    <tr>\n",
       "      <th>max</th>\n",
       "      <td>344.000000</td>\n",
       "      <td>298.000000</td>\n",
       "      <td>344.000000</td>\n",
       "      <td>344.000000</td>\n",
       "    </tr>\n",
       "  </tbody>\n",
       "</table>\n",
       "</div>"
      ],
      "text/plain": [
       "       total_breaches  serious_breaches  non_fab_breaches  non_null_uniques\n",
       "count   308558.000000     308558.000000     308558.000000     308558.000000\n",
       "mean         7.554077          4.519870          7.554055          7.554077\n",
       "std          5.877800          4.123446          5.877667          5.877800\n",
       "min          0.000000          0.000000          0.000000          0.000000\n",
       "25%          3.000000          2.000000          3.000000          3.000000\n",
       "50%          6.000000          4.000000          6.000000          6.000000\n",
       "75%         11.000000          7.000000         11.000000         11.000000\n",
       "max        344.000000        298.000000        344.000000        344.000000"
      ]
     },
     "execution_count": 15,
     "metadata": {},
     "output_type": "execute_result"
    }
   ],
   "source": [
    "fin_df.fillna(0).describe()"
   ]
  },
  {
   "cell_type": "code",
   "execution_count": 16,
   "id": "00ba3f4e-7b09-4790-a1d8-36dd98d91dfb",
   "metadata": {},
   "outputs": [
    {
     "data": {
      "text/plain": [
       "(307454, 5)"
      ]
     },
     "execution_count": 16,
     "metadata": {},
     "output_type": "execute_result"
    }
   ],
   "source": [
    "# Focus on DNS validated emails\n",
    "parsed_valid = parsed_voter[parsed_voter['is_valid_email_dns'] == True]\n",
    "parsed_valid.shape"
   ]
  },
  {
   "cell_type": "code",
   "execution_count": 17,
   "id": "f9c46578-34d7-487b-a12b-7482aff623bc",
   "metadata": {},
   "outputs": [],
   "source": [
    "fin_df = pd.merge(parsed_valid, br_email_df, how = 'left', on = 'email')"
   ]
  },
  {
   "cell_type": "code",
   "execution_count": 18,
   "id": "8c5b44a7-b324-4bd6-8367-72e06b5333d7",
   "metadata": {},
   "outputs": [
    {
     "data": {
      "text/html": [
       "<div>\n",
       "<style scoped>\n",
       "    .dataframe tbody tr th:only-of-type {\n",
       "        vertical-align: middle;\n",
       "    }\n",
       "\n",
       "    .dataframe tbody tr th {\n",
       "        vertical-align: top;\n",
       "    }\n",
       "\n",
       "    .dataframe thead th {\n",
       "        text-align: right;\n",
       "    }\n",
       "</style>\n",
       "<table border=\"1\" class=\"dataframe\">\n",
       "  <thead>\n",
       "    <tr style=\"text-align: right;\">\n",
       "      <th></th>\n",
       "      <th>total_breaches</th>\n",
       "      <th>serious_breaches</th>\n",
       "      <th>non_fab_breaches</th>\n",
       "      <th>non_null_uniques</th>\n",
       "    </tr>\n",
       "  </thead>\n",
       "  <tbody>\n",
       "    <tr>\n",
       "      <th>count</th>\n",
       "      <td>307454.000000</td>\n",
       "      <td>307454.000000</td>\n",
       "      <td>307454.000000</td>\n",
       "      <td>307454.000000</td>\n",
       "    </tr>\n",
       "    <tr>\n",
       "      <th>mean</th>\n",
       "      <td>7.558064</td>\n",
       "      <td>4.523818</td>\n",
       "      <td>7.558041</td>\n",
       "      <td>7.558064</td>\n",
       "    </tr>\n",
       "    <tr>\n",
       "      <th>std</th>\n",
       "      <td>5.878490</td>\n",
       "      <td>4.123963</td>\n",
       "      <td>5.878357</td>\n",
       "      <td>5.878490</td>\n",
       "    </tr>\n",
       "    <tr>\n",
       "      <th>min</th>\n",
       "      <td>0.000000</td>\n",
       "      <td>0.000000</td>\n",
       "      <td>0.000000</td>\n",
       "      <td>0.000000</td>\n",
       "    </tr>\n",
       "    <tr>\n",
       "      <th>25%</th>\n",
       "      <td>3.000000</td>\n",
       "      <td>2.000000</td>\n",
       "      <td>3.000000</td>\n",
       "      <td>3.000000</td>\n",
       "    </tr>\n",
       "    <tr>\n",
       "      <th>50%</th>\n",
       "      <td>6.000000</td>\n",
       "      <td>4.000000</td>\n",
       "      <td>6.000000</td>\n",
       "      <td>6.000000</td>\n",
       "    </tr>\n",
       "    <tr>\n",
       "      <th>75%</th>\n",
       "      <td>11.000000</td>\n",
       "      <td>7.000000</td>\n",
       "      <td>11.000000</td>\n",
       "      <td>11.000000</td>\n",
       "    </tr>\n",
       "    <tr>\n",
       "      <th>max</th>\n",
       "      <td>344.000000</td>\n",
       "      <td>298.000000</td>\n",
       "      <td>344.000000</td>\n",
       "      <td>344.000000</td>\n",
       "    </tr>\n",
       "  </tbody>\n",
       "</table>\n",
       "</div>"
      ],
      "text/plain": [
       "       total_breaches  serious_breaches  non_fab_breaches  non_null_uniques\n",
       "count   307454.000000     307454.000000     307454.000000     307454.000000\n",
       "mean         7.558064          4.523818          7.558041          7.558064\n",
       "std          5.878490          4.123963          5.878357          5.878490\n",
       "min          0.000000          0.000000          0.000000          0.000000\n",
       "25%          3.000000          2.000000          3.000000          3.000000\n",
       "50%          6.000000          4.000000          6.000000          6.000000\n",
       "75%         11.000000          7.000000         11.000000         11.000000\n",
       "max        344.000000        298.000000        344.000000        344.000000"
      ]
     },
     "execution_count": 18,
     "metadata": {},
     "output_type": "execute_result"
    }
   ],
   "source": [
    "fin_df.fillna(0).describe()"
   ]
  },
  {
   "cell_type": "code",
   "execution_count": null,
   "id": "cec5b8a8-3378-429c-8cd4-ecea4d3a3709",
   "metadata": {},
   "outputs": [],
   "source": []
  }
 ],
 "metadata": {
  "kernelspec": {
   "display_name": "Python 3 (ipykernel)",
   "language": "python",
   "name": "python3"
  },
  "language_info": {
   "codemirror_mode": {
    "name": "ipython",
    "version": 3
   },
   "file_extension": ".py",
   "mimetype": "text/x-python",
   "name": "python",
   "nbconvert_exporter": "python",
   "pygments_lexer": "ipython3",
   "version": "3.8.10"
  }
 },
 "nbformat": 4,
 "nbformat_minor": 5
}
