{
 "cells": [
  {
   "cell_type": "markdown",
   "id": "ca1411f4-b589-4d10-8812-69b9248d4ea7",
   "metadata": {},
   "source": [
    "### Concat all HIBP and Analyze"
   ]
  },
  {
   "cell_type": "code",
   "execution_count": null,
   "id": "f5db6b26-317f-4daf-9d5b-7e4d384b7f31",
   "metadata": {},
   "outputs": [],
   "source": [
    "import glob\n",
    "import os\n",
    "import pandas as pd"
   ]
  },
  {
   "cell_type": "code",
   "execution_count": null,
   "id": "a61278c8-9bc7-4c27-9599-8d64f1629557",
   "metadata": {},
   "outputs": [],
   "source": [
    "# Directory path containing JSON files\n",
    "directory = 'pwned/'\n",
    "\n",
    "# Get list of JSON file paths in the directory\n",
    "json_files = glob.glob(directory + '/*.json')\n",
    "\n",
    "# List to store individual DataFrames\n",
    "dataframes = []\n",
    "\n",
    "# Iterate over the JSON files\n",
    "for file in json_files:\n",
    "    # Read JSON file into a DataFrame\n",
    "    df = pd.read_json(file)\n",
    "    # Append DataFrame to the list\n",
    "    file_name = os.path.basename(file).rstrip('.json')\n",
    "    df['file_name'] = file_name\n",
    "\n",
    "    dataframes.append(df)\n",
    "\n",
    "# Concatenate the list of DataFrames into a single DataFrame\n",
    "combined_df = pd.concat(dataframes, ignore_index=True)"
   ]
  },
  {
   "cell_type": "code",
   "execution_count": null,
   "id": "152324c5-79be-4242-9813-06e06cbffd10",
   "metadata": {},
   "outputs": [],
   "source": [
    "combined_df"
   ]
  },
  {
   "cell_type": "code",
   "execution_count": null,
   "id": "3e170234-2316-4b26-b101-5b9cecb29220",
   "metadata": {},
   "outputs": [],
   "source": [
    "breaches = pd.read_json('breaches.json')"
   ]
  },
  {
   "cell_type": "code",
   "execution_count": null,
   "id": "e037b515-8279-4413-a88a-491163fb3b09",
   "metadata": {},
   "outputs": [],
   "source": [
    "fin_df = pd.merge(combined_df, breaches, on='Name')\n",
    "fin_df.shape"
   ]
  },
  {
   "cell_type": "code",
   "execution_count": null,
   "id": "41f96b33-91b6-4860-b77f-ce5813a32801",
   "metadata": {},
   "outputs": [],
   "source": [
    "fin_df.groupby('file_name')['Name'].nunique().describe()"
   ]
  },
  {
   "cell_type": "code",
   "execution_count": null,
   "id": "2f3cf8e9-768d-42dc-ab18-cbf91111686c",
   "metadata": {},
   "outputs": [],
   "source": [
    "fin_df[fin_df['IsSensitive']==True].groupby('file_name')['Name'].nunique().describe()"
   ]
  },
  {
   "cell_type": "code",
   "execution_count": null,
   "id": "d1959c92-5531-4b50-95aa-e5cefd70044c",
   "metadata": {},
   "outputs": [],
   "source": [
    "fin_df"
   ]
  },
  {
   "cell_type": "code",
   "execution_count": null,
   "id": "9b9087c4-c624-439b-a0ba-187e0aa08e58",
   "metadata": {},
   "outputs": [],
   "source": []
  }
 ],
 "metadata": {
  "kernelspec": {
   "display_name": "Python 3 (ipykernel)",
   "language": "python",
   "name": "python3"
  },
  "language_info": {
   "codemirror_mode": {
    "name": "ipython",
    "version": 3
   },
   "file_extension": ".py",
   "mimetype": "text/x-python",
   "name": "python",
   "nbconvert_exporter": "python",
   "pygments_lexer": "ipython3",
   "version": "3.8.10"
  }
 },
 "nbformat": 4,
 "nbformat_minor": 5
}
