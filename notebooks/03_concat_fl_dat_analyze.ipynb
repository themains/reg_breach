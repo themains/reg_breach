{
 "cells": [
  {
   "cell_type": "markdown",
   "id": "ca1411f4-b589-4d10-8812-69b9248d4ea7",
   "metadata": {},
   "source": [
    "### Concat all HIBP and Analyze"
   ]
  },
  {
   "cell_type": "code",
   "execution_count": 1,
   "id": "f5db6b26-317f-4daf-9d5b-7e4d384b7f31",
   "metadata": {},
   "outputs": [],
   "source": [
    "import glob\n",
    "import os\n",
    "import pandas as pd"
   ]
  },
  {
   "cell_type": "code",
   "execution_count": 2,
   "id": "a61278c8-9bc7-4c27-9599-8d64f1629557",
   "metadata": {},
   "outputs": [],
   "source": [
    "# Directory path containing JSON files\n",
    "directory = 'pwned/'\n",
    "\n",
    "# Get list of JSON file paths in the directory\n",
    "json_files = glob.glob(directory + '/*.json')\n",
    "\n",
    "# List to store individual DataFrames\n",
    "dataframes = []\n",
    "\n",
    "# Iterate over the JSON files\n",
    "for file in json_files:\n",
    "    # Read JSON file into a DataFrame\n",
    "    df = pd.read_json(file)\n",
    "    # Append DataFrame to the list\n",
    "    file_name = os.path.basename(file).rstrip('.json')\n",
    "    df['file_name'] = file_name\n",
    "\n",
    "    dataframes.append(df)\n",
    "\n",
    "# Concatenate the list of DataFrames into a single DataFrame\n",
    "combined_df = pd.concat(dataframes, ignore_index=True)"
   ]
  },
  {
   "cell_type": "code",
   "execution_count": 3,
   "id": "152324c5-79be-4242-9813-06e06cbffd10",
   "metadata": {},
   "outputs": [
    {
     "data": {
      "text/html": [
       "<div>\n",
       "<style scoped>\n",
       "    .dataframe tbody tr th:only-of-type {\n",
       "        vertical-align: middle;\n",
       "    }\n",
       "\n",
       "    .dataframe tbody tr th {\n",
       "        vertical-align: top;\n",
       "    }\n",
       "\n",
       "    .dataframe thead th {\n",
       "        text-align: right;\n",
       "    }\n",
       "</style>\n",
       "<table border=\"1\" class=\"dataframe\">\n",
       "  <thead>\n",
       "    <tr style=\"text-align: right;\">\n",
       "      <th></th>\n",
       "      <th>Name</th>\n",
       "      <th>file_name</th>\n",
       "    </tr>\n",
       "  </thead>\n",
       "  <tbody>\n",
       "    <tr>\n",
       "      <th>0</th>\n",
       "      <td>PDL</td>\n",
       "      <td>coxcats1@hotmail.com</td>\n",
       "    </tr>\n",
       "    <tr>\n",
       "      <th>1</th>\n",
       "      <td>NotAcxiom</td>\n",
       "      <td>coxcats1@hotmail.com</td>\n",
       "    </tr>\n",
       "    <tr>\n",
       "      <th>2</th>\n",
       "      <td>Exactis</td>\n",
       "      <td>Nealfamily5@aol.com</td>\n",
       "    </tr>\n",
       "    <tr>\n",
       "      <th>3</th>\n",
       "      <td>LeadHunter</td>\n",
       "      <td>Nealfamily5@aol.com</td>\n",
       "    </tr>\n",
       "    <tr>\n",
       "      <th>4</th>\n",
       "      <td>Luxottica</td>\n",
       "      <td>Nealfamily5@aol.com</td>\n",
       "    </tr>\n",
       "    <tr>\n",
       "      <th>...</th>\n",
       "      <td>...</td>\n",
       "      <td>...</td>\n",
       "    </tr>\n",
       "    <tr>\n",
       "      <th>121640</th>\n",
       "      <td>Scentbird</td>\n",
       "      <td>KHARRISON51@GMAIL.COM</td>\n",
       "    </tr>\n",
       "    <tr>\n",
       "      <th>121641</th>\n",
       "      <td>RiverCityMedia</td>\n",
       "      <td>DEVARNEYKENNETH@GMAIL.COM</td>\n",
       "    </tr>\n",
       "    <tr>\n",
       "      <th>121642</th>\n",
       "      <td>Houzz</td>\n",
       "      <td>bjdanford@live.com</td>\n",
       "    </tr>\n",
       "    <tr>\n",
       "      <th>121643</th>\n",
       "      <td>Cit0day</td>\n",
       "      <td>3.MUNOZ@GMAIL.COM</td>\n",
       "    </tr>\n",
       "    <tr>\n",
       "      <th>121644</th>\n",
       "      <td>Edmodo</td>\n",
       "      <td>3.MUNOZ@GMAIL.COM</td>\n",
       "    </tr>\n",
       "  </tbody>\n",
       "</table>\n",
       "<p>121645 rows × 2 columns</p>\n",
       "</div>"
      ],
      "text/plain": [
       "                  Name                  file_name\n",
       "0                  PDL       coxcats1@hotmail.com\n",
       "1            NotAcxiom       coxcats1@hotmail.com\n",
       "2              Exactis        Nealfamily5@aol.com\n",
       "3           LeadHunter        Nealfamily5@aol.com\n",
       "4            Luxottica        Nealfamily5@aol.com\n",
       "...                ...                        ...\n",
       "121640       Scentbird      KHARRISON51@GMAIL.COM\n",
       "121641  RiverCityMedia  DEVARNEYKENNETH@GMAIL.COM\n",
       "121642           Houzz         bjdanford@live.com\n",
       "121643         Cit0day          3.MUNOZ@GMAIL.COM\n",
       "121644          Edmodo          3.MUNOZ@GMAIL.COM\n",
       "\n",
       "[121645 rows x 2 columns]"
      ]
     },
     "execution_count": 3,
     "metadata": {},
     "output_type": "execute_result"
    }
   ],
   "source": [
    "combined_df"
   ]
  },
  {
   "cell_type": "code",
   "execution_count": 4,
   "id": "3e170234-2316-4b26-b101-5b9cecb29220",
   "metadata": {},
   "outputs": [],
   "source": [
    "breaches = pd.read_json('breaches.json')"
   ]
  },
  {
   "cell_type": "code",
   "execution_count": 5,
   "id": "e037b515-8279-4413-a88a-491163fb3b09",
   "metadata": {},
   "outputs": [
    {
     "data": {
      "text/plain": [
       "(121645, 17)"
      ]
     },
     "execution_count": 5,
     "metadata": {},
     "output_type": "execute_result"
    }
   ],
   "source": [
    "fin_df = pd.merge(combined_df, breaches, on='Name')\n",
    "fin_df.shape"
   ]
  },
  {
   "cell_type": "code",
   "execution_count": 6,
   "id": "41f96b33-91b6-4860-b77f-ce5813a32801",
   "metadata": {},
   "outputs": [
    {
     "data": {
      "text/plain": [
       "count    16727.000000\n",
       "mean         7.272374\n",
       "std          5.573963\n",
       "min          1.000000\n",
       "25%          3.000000\n",
       "50%          6.000000\n",
       "75%         10.000000\n",
       "max         59.000000\n",
       "Name: Name, dtype: float64"
      ]
     },
     "execution_count": 6,
     "metadata": {},
     "output_type": "execute_result"
    }
   ],
   "source": [
    "fin_df.groupby('file_name')['Name'].nunique().describe()"
   ]
  },
  {
   "cell_type": "markdown",
   "id": "85f45a0e-3226-464f-8911-89a8f8b49712",
   "metadata": {},
   "source": [
    "#### Let's filter out where breach is supposedly 'fabricated'\n",
    "https://haveibeenpwned.com/FAQs#FabricatedBreach"
   ]
  },
  {
   "cell_type": "code",
   "execution_count": 13,
   "id": "2f3cf8e9-768d-42dc-ab18-cbf91111686c",
   "metadata": {},
   "outputs": [
    {
     "data": {
      "text/plain": [
       "count    16727.000000\n",
       "mean         7.272374\n",
       "std          5.573963\n",
       "min          1.000000\n",
       "25%          3.000000\n",
       "50%          6.000000\n",
       "75%         10.000000\n",
       "max         59.000000\n",
       "Name: Name, dtype: float64"
      ]
     },
     "execution_count": 13,
     "metadata": {},
     "output_type": "execute_result"
    }
   ],
   "source": [
    "fin_df[fin_df['IsFabricated']==False].groupby('file_name')['Name'].nunique().describe()"
   ]
  },
  {
   "cell_type": "markdown",
   "id": "cd780b4f-dc83-4e80-b667-1a628a76ba3b",
   "metadata": {},
   "source": [
    "#### Serious Dataclasses Breached \n",
    "Either data that will help you hack your other accounts, e.g., Mother's Maiden Name, or sensitive personal information"
   ]
  },
  {
   "cell_type": "code",
   "execution_count": 9,
   "id": "9b9087c4-c624-439b-a0ba-187e0aa08e58",
   "metadata": {},
   "outputs": [],
   "source": [
    "serious_dataclasses = [\"Audio recordings\",\n",
    "\"Auth tokens\",\n",
    "\"Bank account numbers\",\n",
    "\"Biometric data\",\n",
    "\"Browser user agent details\",\n",
    "\"Browsing histories\",\n",
    "\"Chat logs\",\n",
    "\"Credit card CVV\",\n",
    "\"Credit cards\",\n",
    "\"Credit status information\",\n",
    "\"Drinking habits\",\n",
    "\"Driver's licenses\",\n",
    "\"Drug habits\",\n",
    "\"Email messages\",\n",
    "\"Encrypted keys\",\n",
    "\"Government issued IDs\",\n",
    "\"Health insurance information\",\n",
    "\"Historical passwords\",\n",
    "\"HIV statuses\",\n",
    "\"Login histories\",\n",
    "\"MAC addresses\",\n",
    "\"Mothers maiden names\",\n",
    "\"Nationalities\",\n",
    "\"Partial credit card data\",\n",
    "\"Partial dates of birth\",\n",
    "\"Passport numbers\",\n",
    "\"Password hints\",\n",
    "\"Passwords\",\n",
    "\"Personal health data\",\n",
    "\"Photos\",\n",
    "\"PINs\",\n",
    "\"Places of birth\",\n",
    "\"Private messages\",\n",
    "\"Security questions and answers\",\n",
    "\"Sexual fetishes\",\n",
    "\"Sexual orientations\",\n",
    "\"SMS messages\",\n",
    "\"Social security numbers\",\n",
    "\"Taxation records\"]"
   ]
  },
  {
   "cell_type": "code",
   "execution_count": 10,
   "id": "421535dc-6a0c-4f8d-9f16-80ed92e8803c",
   "metadata": {},
   "outputs": [],
   "source": [
    "fin_df['serious'] = fin_df['DataClasses'].apply(lambda x: any(string in x for string in serious_dataclasses))"
   ]
  },
  {
   "cell_type": "code",
   "execution_count": 14,
   "id": "f770b170-ad83-4a37-8e52-36bbecb7d59f",
   "metadata": {},
   "outputs": [
    {
     "data": {
      "text/plain": [
       "count    15277.000000\n",
       "mean         4.709302\n",
       "std          3.761341\n",
       "min          1.000000\n",
       "25%          2.000000\n",
       "50%          4.000000\n",
       "75%          7.000000\n",
       "max         53.000000\n",
       "Name: Name, dtype: float64"
      ]
     },
     "execution_count": 14,
     "metadata": {},
     "output_type": "execute_result"
    }
   ],
   "source": [
    "fin_df[fin_df['serious']==True].groupby('file_name')['Name'].nunique().describe()"
   ]
  },
  {
   "cell_type": "code",
   "execution_count": null,
   "id": "790967a8-4254-4f93-bf26-4010fd7b9a74",
   "metadata": {},
   "outputs": [],
   "source": []
  }
 ],
 "metadata": {
  "kernelspec": {
   "display_name": "Python 3 (ipykernel)",
   "language": "python",
   "name": "python3"
  },
  "language_info": {
   "codemirror_mode": {
    "name": "ipython",
    "version": 3
   },
   "file_extension": ".py",
   "mimetype": "text/x-python",
   "name": "python",
   "nbconvert_exporter": "python",
   "pygments_lexer": "ipython3",
   "version": "3.8.10"
  }
 },
 "nbformat": 4,
 "nbformat_minor": 5
}
