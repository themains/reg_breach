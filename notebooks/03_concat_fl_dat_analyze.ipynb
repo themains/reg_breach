{
 "cells": [
  {
   "cell_type": "markdown",
   "id": "ca1411f4-b589-4d10-8812-69b9248d4ea7",
   "metadata": {},
   "source": [
    "### Concat all HIBP and Analyze"
   ]
  },
  {
   "cell_type": "code",
   "execution_count": 1,
   "id": "f5db6b26-317f-4daf-9d5b-7e4d384b7f31",
   "metadata": {},
   "outputs": [],
   "source": [
    "import glob\n",
    "import os\n",
    "import pandas as pd"
   ]
  },
  {
   "cell_type": "code",
   "execution_count": 2,
   "id": "a61278c8-9bc7-4c27-9599-8d64f1629557",
   "metadata": {},
   "outputs": [],
   "source": [
    "# Directory path containing JSON files\n",
    "directory = 'pwned/'\n",
    "\n",
    "# Get list of JSON file paths in the directory\n",
    "json_files = glob.glob(directory + '/*.json')\n",
    "\n",
    "# List to store individual DataFrames\n",
    "dataframes = []\n",
    "\n",
    "# Iterate over the JSON files\n",
    "for file in json_files:\n",
    "    # Read JSON file into a DataFrame\n",
    "    df = pd.read_json(file)\n",
    "    # Append DataFrame to the list\n",
    "    file_name = os.path.basename(file).rstrip('.json')\n",
    "    df['file_name'] = file_name\n",
    "\n",
    "    dataframes.append(df)\n",
    "\n",
    "# Concatenate the list of DataFrames into a single DataFrame\n",
    "combined_df = pd.concat(dataframes, ignore_index=True)"
   ]
  },
  {
   "cell_type": "code",
   "execution_count": 5,
   "id": "219be3ac-f0f3-4b0e-b3d9-19ecaa53ffa2",
   "metadata": {},
   "outputs": [],
   "source": [
    "combined_df.rename(columns={'file_name': 'email'}, inplace = True)"
   ]
  },
  {
   "cell_type": "code",
   "execution_count": 6,
   "id": "3e170234-2316-4b26-b101-5b9cecb29220",
   "metadata": {},
   "outputs": [],
   "source": [
    "breaches = pd.read_json('breaches.json')"
   ]
  },
  {
   "cell_type": "code",
   "execution_count": 7,
   "id": "e037b515-8279-4413-a88a-491163fb3b09",
   "metadata": {},
   "outputs": [
    {
     "data": {
      "text/plain": [
       "(187794, 17)"
      ]
     },
     "execution_count": 7,
     "metadata": {},
     "output_type": "execute_result"
    }
   ],
   "source": [
    "fin_df = pd.merge(combined_df, breaches, on='Name')\n",
    "fin_df.shape"
   ]
  },
  {
   "cell_type": "code",
   "execution_count": 9,
   "id": "723c990a-0102-46d0-ae8f-ea53f9cc5345",
   "metadata": {},
   "outputs": [
    {
     "data": {
      "text/plain": [
       "email\n",
       "000JWA@GMAIL.COM             2\n",
       "00NMGP@GMAIL.COM             4\n",
       "0712045SETH@GMAIL.COM        8\n",
       "0TYLERROLLINS0@GMAIL.COM     1\n",
       "1006ESP@GMAIL.COM            1\n",
       "                            ..\n",
       "zulenny88@yahoo.com          9\n",
       "zwhitcomb12@gmail.com        4\n",
       "zydecotrooper@gmail.com     16\n",
       "zyuranger@yahoo.com         23\n",
       "zz840_90@msn.com            15\n",
       "Length: 25844, dtype: int64"
      ]
     },
     "execution_count": 9,
     "metadata": {},
     "output_type": "execute_result"
    }
   ],
   "source": [
    "fin_df.groupby('email').size()"
   ]
  },
  {
   "cell_type": "code",
   "execution_count": 10,
   "id": "41f96b33-91b6-4860-b77f-ce5813a32801",
   "metadata": {},
   "outputs": [
    {
     "data": {
      "text/plain": [
       "count    25844.000000\n",
       "mean         7.266445\n",
       "std          5.929493\n",
       "min          1.000000\n",
       "25%          3.000000\n",
       "50%          6.000000\n",
       "75%         10.000000\n",
       "max        344.000000\n",
       "Name: Name, dtype: float64"
      ]
     },
     "execution_count": 10,
     "metadata": {},
     "output_type": "execute_result"
    }
   ],
   "source": [
    "fin_df.groupby(['email'])['Name'].nunique().reset_index()['Name'].describe()"
   ]
  },
  {
   "cell_type": "code",
   "execution_count": 11,
   "id": "94472a50-5d2f-4a2f-975f-a8d9d47ced41",
   "metadata": {},
   "outputs": [
    {
     "data": {
      "text/plain": [
       "1.0"
      ]
     },
     "execution_count": 11,
     "metadata": {},
     "output_type": "execute_result"
    }
   ],
   "source": [
    "(fin_df.groupby(['email'])['Name'].nunique().reset_index()['Name'] > 0).mean()"
   ]
  },
  {
   "cell_type": "code",
   "execution_count": 12,
   "id": "8e7b2549-4608-429b-8b5b-bfe4cca1ab03",
   "metadata": {},
   "outputs": [
    {
     "data": {
      "text/plain": [
       "0"
      ]
     },
     "execution_count": 12,
     "metadata": {},
     "output_type": "execute_result"
    }
   ],
   "source": [
    "fin_df['Name'].isna().sum()"
   ]
  },
  {
   "cell_type": "markdown",
   "id": "85f45a0e-3226-464f-8911-89a8f8b49712",
   "metadata": {},
   "source": [
    "#### How many non-fabricated breaches?\n",
    "\n",
    "https://haveibeenpwned.com/FAQs#FabricatedBreach"
   ]
  },
  {
   "cell_type": "code",
   "execution_count": 18,
   "id": "2f3cf8e9-768d-42dc-ab18-cbf91111686c",
   "metadata": {},
   "outputs": [
    {
     "data": {
      "text/plain": [
       "count    25844.000000\n",
       "mean         7.266445\n",
       "std          5.929493\n",
       "min          1.000000\n",
       "25%          3.000000\n",
       "50%          6.000000\n",
       "75%         10.000000\n",
       "max        344.000000\n",
       "Name: non_fab, dtype: float64"
      ]
     },
     "execution_count": 18,
     "metadata": {},
     "output_type": "execute_result"
    }
   ],
   "source": [
    "fin_df['non_fab'] = ~fin_df['IsFabricated'].fillna(0)\n",
    "\n",
    "fin_df.groupby('email')['non_fab'].sum().describe()"
   ]
  },
  {
   "cell_type": "markdown",
   "id": "cd780b4f-dc83-4e80-b667-1a628a76ba3b",
   "metadata": {},
   "source": [
    "#### Serious Dataclasses Breached \n",
    "Either data that will help you hack your other accounts, e.g., Mother's Maiden Name, or sensitive personal information"
   ]
  },
  {
   "cell_type": "code",
   "execution_count": 19,
   "id": "9b9087c4-c624-439b-a0ba-187e0aa08e58",
   "metadata": {},
   "outputs": [],
   "source": [
    "serious_dataclasses = [\"Audio recordings\",\n",
    "\"Auth tokens\",\n",
    "\"Bank account numbers\",\n",
    "\"Biometric data\",\n",
    "\"Browser user agent details\",\n",
    "\"Browsing histories\",\n",
    "\"Chat logs\",\n",
    "\"Credit card CVV\",\n",
    "\"Credit cards\",\n",
    "\"Credit status information\",\n",
    "\"Drinking habits\",\n",
    "\"Driver's licenses\",\n",
    "\"Drug habits\",\n",
    "\"Email messages\",\n",
    "\"Encrypted keys\",\n",
    "\"Government issued IDs\",\n",
    "\"Health insurance information\",\n",
    "\"Historical passwords\",\n",
    "\"HIV statuses\",\n",
    "\"Login histories\",\n",
    "\"MAC addresses\",\n",
    "\"Mothers maiden names\",\n",
    "\"Nationalities\",\n",
    "\"Partial credit card data\",\n",
    "\"Partial dates of birth\",\n",
    "\"Passport numbers\",\n",
    "\"Password hints\",\n",
    "\"Passwords\",\n",
    "\"Personal health data\",\n",
    "\"Photos\",\n",
    "\"PINs\",\n",
    "\"Places of birth\",\n",
    "\"Private messages\",\n",
    "\"Security questions and answers\",\n",
    "\"Sexual fetishes\",\n",
    "\"Sexual orientations\",\n",
    "\"SMS messages\",\n",
    "\"Social security numbers\",\n",
    "\"Taxation records\"]"
   ]
  },
  {
   "cell_type": "code",
   "execution_count": 20,
   "id": "421535dc-6a0c-4f8d-9f16-80ed92e8803c",
   "metadata": {},
   "outputs": [],
   "source": [
    "fin_df['serious'] = fin_df['DataClasses'].apply(lambda x: any(string in x for string in serious_dataclasses))"
   ]
  },
  {
   "cell_type": "code",
   "execution_count": 21,
   "id": "f770b170-ad83-4a37-8e52-36bbecb7d59f",
   "metadata": {},
   "outputs": [
    {
     "data": {
      "text/plain": [
       "count    25844.000000\n",
       "mean         4.321003\n",
       "std          4.246301\n",
       "min          0.000000\n",
       "25%          1.000000\n",
       "50%          3.000000\n",
       "75%          6.000000\n",
       "max        303.000000\n",
       "Name: serious, dtype: float64"
      ]
     },
     "execution_count": 21,
     "metadata": {},
     "output_type": "execute_result"
    }
   ],
   "source": [
    "fin_df.groupby('email')['serious'].sum().describe()"
   ]
  },
  {
   "cell_type": "code",
   "execution_count": null,
   "id": "790967a8-4254-4f93-bf26-4010fd7b9a74",
   "metadata": {},
   "outputs": [],
   "source": [
    "fin_df.groupby('file_name').size().shape"
   ]
  },
  {
   "cell_type": "code",
   "execution_count": null,
   "id": "f547371d-1503-431a-b273-359fad217cb3",
   "metadata": {},
   "outputs": [],
   "source": []
  }
 ],
 "metadata": {
  "kernelspec": {
   "display_name": "Python 3 (ipykernel)",
   "language": "python",
   "name": "python3"
  },
  "language_info": {
   "codemirror_mode": {
    "name": "ipython",
    "version": 3
   },
   "file_extension": ".py",
   "mimetype": "text/x-python",
   "name": "python",
   "nbconvert_exporter": "python",
   "pygments_lexer": "ipython3",
   "version": "3.8.10"
  }
 },
 "nbformat": 4,
 "nbformat_minor": 5
}
