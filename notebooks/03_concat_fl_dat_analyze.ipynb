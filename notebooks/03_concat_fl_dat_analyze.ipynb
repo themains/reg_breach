{
 "cells": [
  {
   "cell_type": "markdown",
   "id": "ca1411f4-b589-4d10-8812-69b9248d4ea7",
   "metadata": {},
   "source": [
    "### Concat all HIBP and Analyze"
   ]
  },
  {
   "cell_type": "code",
   "execution_count": 1,
   "id": "f5db6b26-317f-4daf-9d5b-7e4d384b7f31",
   "metadata": {},
   "outputs": [],
   "source": [
    "import glob\n",
    "import os\n",
    "import re\n",
    "import logging\n",
    "import pandas as pd\n",
    "import numpy as np\n",
    "from tqdm import tqdm\n",
    "from multiprocessing import Pool"
   ]
  },
  {
   "cell_type": "code",
   "execution_count": 2,
   "id": "91243c96-1c4b-4337-a104-f9841ae748a0",
   "metadata": {},
   "outputs": [
    {
     "name": "stderr",
     "output_type": "stream",
     "text": [
      "Processing JSON files: 100%|█████████████████████████████████████████████████████████████████████████████████████| 332005/332005 [03:57<00:00, 1398.39file/s]\n"
     ]
    }
   ],
   "source": [
    "# Directory path containing JSON files\n",
    "directory = 'pwned/'\n",
    "\n",
    "logging.basicConfig(filename='error_log_read_json.log', level=logging.ERROR,\n",
    "                    format='%(asctime)s - %(levelname)s - %(message)s')\n",
    "\n",
    "# Get list of JSON file paths in the directory\n",
    "json_files = glob.glob(directory + '/*.json')\n",
    "\n",
    "# Define a function for processing a JSON file\n",
    "def process_json_file(file):\n",
    "    try:\n",
    "        df = pd.read_json(file)\n",
    "        file_name = os.path.basename(file).rstrip('.json')\n",
    "        df['email'] = file_name\n",
    "        return df\n",
    "    except ValueError as e:\n",
    "        logging.error(f\"Error reading file: {file}. Error message: {e}\")\n",
    "        return None\n",
    "\n",
    "# Create a pool of worker processes\n",
    "pool = Pool()\n",
    "\n",
    "# Create a progress bar with tqdm\n",
    "progress_bar = tqdm(total=len(json_files), desc=\"Processing JSON files\", unit=\"file\")\n",
    "\n",
    "# Process JSON files in parallel\n",
    "results = []\n",
    "for df in pool.imap_unordered(process_json_file, json_files):\n",
    "    results.append(df)\n",
    "    progress_bar.update(1)\n",
    "\n",
    "# Close the pool of worker processes\n",
    "pool.close()\n",
    "pool.join()\n",
    "\n",
    "# Close the progress bar\n",
    "progress_bar.close()"
   ]
  },
  {
   "cell_type": "code",
   "execution_count": 3,
   "id": "652c7b05-380b-4b7c-829c-d9a41926fff1",
   "metadata": {},
   "outputs": [],
   "source": [
    "# Concatenate the list of DataFrames into a single DataFrame\n",
    "combined_df = pd.concat(results, ignore_index=True)"
   ]
  },
  {
   "cell_type": "code",
   "execution_count": 4,
   "id": "3e170234-2316-4b26-b101-5b9cecb29220",
   "metadata": {},
   "outputs": [],
   "source": [
    "breaches = pd.read_json('breaches.json')"
   ]
  },
  {
   "cell_type": "code",
   "execution_count": 5,
   "id": "e037b515-8279-4413-a88a-491163fb3b09",
   "metadata": {},
   "outputs": [
    {
     "data": {
      "text/plain": [
       "(2501508, 17)"
      ]
     },
     "execution_count": 5,
     "metadata": {},
     "output_type": "execute_result"
    }
   ],
   "source": [
    "breached_email_df = pd.merge(combined_df, breaches, on='Name')\n",
    "breached_email_df.shape"
   ]
  },
  {
   "cell_type": "markdown",
   "id": "d785bbfc-e7ab-41ac-a5e9-80b878b2f738",
   "metadata": {},
   "source": [
    "### Let's create an email level dataset for which we have breaches"
   ]
  },
  {
   "cell_type": "markdown",
   "id": "f6568e14-914f-4b02-916b-0b8646c257ab",
   "metadata": {},
   "source": [
    "#### Non-fab\n",
    "https://haveibeenpwned.com/FAQs#FabricatedBreach"
   ]
  },
  {
   "cell_type": "code",
   "execution_count": 6,
   "id": "7a123c0e-ddb8-47f3-83d9-39d21920bb50",
   "metadata": {},
   "outputs": [],
   "source": [
    "breached_email_df['non_fab'] = ~breached_email_df['IsFabricated'].fillna(1)"
   ]
  },
  {
   "cell_type": "markdown",
   "id": "5e4142c6-d05f-47da-89ea-ed43c6b186b4",
   "metadata": {},
   "source": [
    "#### Serious Dataclasses Breached \n",
    "Either data that will help you hack your other accounts, e.g., Mother's Maiden Name, or sensitive personal information"
   ]
  },
  {
   "cell_type": "code",
   "execution_count": 7,
   "id": "ed7c97c3-fc95-4be8-bae1-e74465de5973",
   "metadata": {},
   "outputs": [],
   "source": [
    "serious_dataclasses = [\"Audio recordings\",\n",
    "\"Auth tokens\",\n",
    "\"Bank account numbers\",\n",
    "\"Biometric data\",\n",
    "\"Browsing histories\",\n",
    "\"Chat logs\",\n",
    "\"Credit card CVV\",\n",
    "\"Credit cards\",\n",
    "\"Credit status information\",\n",
    "\"Drinking habits\",\n",
    "\"Driver's licenses\",\n",
    "\"Drug habits\",\n",
    "\"Email messages\",\n",
    "\"Encrypted keys\",\n",
    "\"Government issued IDs\",\n",
    "\"Health insurance information\",\n",
    "\"Historical passwords\", #account cracking\n",
    "\"HIV statuses\",\n",
    "#\"Mothers maiden names\", #account cracking\n",
    "\"Partial credit card data\",\n",
    "\"Passport numbers\",\n",
    "\"Password hints\",\n",
    "\"Passwords\",\n",
    "\"Personal health data\",\n",
    "\"Photos\",\n",
    "\"PINs\",\n",
    "\"Places of birth\", #account cracking\n",
    "\"Private messages\",\n",
    "\"Security questions and answers\",\n",
    "\"Sexual fetishes\",\n",
    "\"Sexual orientations\",\n",
    "\"SMS messages\",\n",
    "\"Social security numbers\",\n",
    "\"Taxation records\"]"
   ]
  },
  {
   "cell_type": "code",
   "execution_count": 8,
   "id": "544f4506-c21a-49c2-ad78-084a5b31a0e8",
   "metadata": {},
   "outputs": [],
   "source": [
    "breached_email_df['serious'] = breached_email_df['DataClasses'].apply(lambda x: any(string in x for string in serious_dataclasses))"
   ]
  },
  {
   "cell_type": "code",
   "execution_count": 9,
   "id": "4900d65b-76bb-40cd-8b09-d88409656c11",
   "metadata": {},
   "outputs": [
    {
     "data": {
      "text/html": [
       "<div>\n",
       "<style scoped>\n",
       "    .dataframe tbody tr th:only-of-type {\n",
       "        vertical-align: middle;\n",
       "    }\n",
       "\n",
       "    .dataframe tbody tr th {\n",
       "        vertical-align: top;\n",
       "    }\n",
       "\n",
       "    .dataframe thead th {\n",
       "        text-align: right;\n",
       "    }\n",
       "</style>\n",
       "<table border=\"1\" class=\"dataframe\">\n",
       "  <thead>\n",
       "    <tr style=\"text-align: right;\">\n",
       "      <th></th>\n",
       "      <th>email</th>\n",
       "      <th>total_breaches</th>\n",
       "      <th>serious_breaches</th>\n",
       "      <th>non_fab_breaches</th>\n",
       "      <th>non_null_uniques</th>\n",
       "    </tr>\n",
       "  </thead>\n",
       "  <tbody>\n",
       "    <tr>\n",
       "      <th>0</th>\n",
       "      <td>000JWA@GMAIL.COM</td>\n",
       "      <td>2</td>\n",
       "      <td>1</td>\n",
       "      <td>2</td>\n",
       "      <td>2</td>\n",
       "    </tr>\n",
       "    <tr>\n",
       "      <th>1</th>\n",
       "      <td>000uly@gmail.com</td>\n",
       "      <td>9</td>\n",
       "      <td>7</td>\n",
       "      <td>9</td>\n",
       "      <td>9</td>\n",
       "    </tr>\n",
       "    <tr>\n",
       "      <th>2</th>\n",
       "      <td>007@nauticalventures.com</td>\n",
       "      <td>5</td>\n",
       "      <td>2</td>\n",
       "      <td>5</td>\n",
       "      <td>5</td>\n",
       "    </tr>\n",
       "    <tr>\n",
       "      <th>3</th>\n",
       "      <td>007WTM@GMAIL.COM</td>\n",
       "      <td>4</td>\n",
       "      <td>2</td>\n",
       "      <td>4</td>\n",
       "      <td>4</td>\n",
       "    </tr>\n",
       "    <tr>\n",
       "      <th>4</th>\n",
       "      <td>00FLAB@GMAIL.COM</td>\n",
       "      <td>16</td>\n",
       "      <td>9</td>\n",
       "      <td>16</td>\n",
       "      <td>16</td>\n",
       "    </tr>\n",
       "    <tr>\n",
       "      <th>...</th>\n",
       "      <td>...</td>\n",
       "      <td>...</td>\n",
       "      <td>...</td>\n",
       "      <td>...</td>\n",
       "      <td>...</td>\n",
       "    </tr>\n",
       "    <tr>\n",
       "      <th>331999</th>\n",
       "      <td>zzgg123@aol.com</td>\n",
       "      <td>8</td>\n",
       "      <td>4</td>\n",
       "      <td>8</td>\n",
       "      <td>8</td>\n",
       "    </tr>\n",
       "    <tr>\n",
       "      <th>332000</th>\n",
       "      <td>zzotter@hotmail.com</td>\n",
       "      <td>26</td>\n",
       "      <td>18</td>\n",
       "      <td>26</td>\n",
       "      <td>26</td>\n",
       "    </tr>\n",
       "    <tr>\n",
       "      <th>332001</th>\n",
       "      <td>zzouiten@hotmail.com</td>\n",
       "      <td>10</td>\n",
       "      <td>7</td>\n",
       "      <td>10</td>\n",
       "      <td>10</td>\n",
       "    </tr>\n",
       "    <tr>\n",
       "      <th>332002</th>\n",
       "      <td>zzzack53@gmail.com</td>\n",
       "      <td>3</td>\n",
       "      <td>0</td>\n",
       "      <td>3</td>\n",
       "      <td>3</td>\n",
       "    </tr>\n",
       "    <tr>\n",
       "      <th>332003</th>\n",
       "      <td>zzzulick@gmail.com</td>\n",
       "      <td>6</td>\n",
       "      <td>3</td>\n",
       "      <td>6</td>\n",
       "      <td>6</td>\n",
       "    </tr>\n",
       "  </tbody>\n",
       "</table>\n",
       "<p>332004 rows × 5 columns</p>\n",
       "</div>"
      ],
      "text/plain": [
       "                           email  total_breaches  serious_breaches  \\\n",
       "0               000JWA@GMAIL.COM               2                 1   \n",
       "1               000uly@gmail.com               9                 7   \n",
       "2       007@nauticalventures.com               5                 2   \n",
       "3               007WTM@GMAIL.COM               4                 2   \n",
       "4               00FLAB@GMAIL.COM              16                 9   \n",
       "...                          ...             ...               ...   \n",
       "331999           zzgg123@aol.com               8                 4   \n",
       "332000       zzotter@hotmail.com              26                18   \n",
       "332001      zzouiten@hotmail.com              10                 7   \n",
       "332002        zzzack53@gmail.com               3                 0   \n",
       "332003        zzzulick@gmail.com               6                 3   \n",
       "\n",
       "        non_fab_breaches  non_null_uniques  \n",
       "0                      2                 2  \n",
       "1                      9                 9  \n",
       "2                      5                 5  \n",
       "3                      4                 4  \n",
       "4                     16                16  \n",
       "...                  ...               ...  \n",
       "331999                 8                 8  \n",
       "332000                26                26  \n",
       "332001                10                10  \n",
       "332002                 3                 3  \n",
       "332003                 6                 6  \n",
       "\n",
       "[332004 rows x 5 columns]"
      ]
     },
     "execution_count": 9,
     "metadata": {},
     "output_type": "execute_result"
    }
   ],
   "source": [
    "br_email_df = breached_email_df.assign(count=1).\\\n",
    "    groupby('email').\\\n",
    "    agg(total_breaches = ('count', 'sum'),\n",
    "    serious_breaches   = ('serious', 'sum'),\n",
    "    non_fab_breaches   = ('non_fab', 'sum'),\n",
    "    non_null_uniques   = ('Name', 'nunique')\n",
    ").reset_index()\n",
    "br_email_df"
   ]
  },
  {
   "cell_type": "markdown",
   "id": "78c11ade-cc44-44fb-9b7f-422ac4435aa5",
   "metadata": {},
   "source": [
    "### Join to Currently Processed Valid Email List"
   ]
  },
  {
   "cell_type": "code",
   "execution_count": 10,
   "id": "ad39e028-ab84-422a-a5da-dbac6d2abeec",
   "metadata": {},
   "outputs": [],
   "source": [
    "# Get list of currently processed emails from the logs\n",
    "\n",
    "def extract_email(log_message):\n",
    "    if \"INFO - Saved\" in log_message:\n",
    "        start_index = log_message.find(\"Saved\") + 6  # Length of \"Saved\" + space\n",
    "        end_index = log_message.find(\"\\n\")\n",
    "    elif \"Error processing\" in log_message and \": 404\" in log_message:\n",
    "        start_index = log_message.find(\"Error processing\") + 18  # Length of \"Error processing\" + space\n",
    "        end_index = log_message.find(\": 404\") # Length of \": 404\" + space\n",
    "    else:\n",
    "        return None\n",
    "\n",
    "    email = log_message[start_index:end_index].strip()\n",
    "    return email\n",
    "\n",
    "# Read the log file into a list of lines\n",
    "with open('pwned.log', 'r') as file:\n",
    "    log_lines = file.readlines()\n",
    "\n",
    "# Extract emails from log messages and create a list of email addresses\n",
    "emails = [extract_email(log_line) for log_line in log_lines if \"Saved\" in log_line or (\"Error processing\" in log_line and \": 404\" in log_line)]"
   ]
  },
  {
   "cell_type": "code",
   "execution_count": 11,
   "id": "1094f80e-edef-4a12-abb4-2f1fb1125dad",
   "metadata": {},
   "outputs": [
    {
     "name": "stdout",
     "output_type": "stream",
     "text": [
      "416158\n",
      "23\n"
     ]
    },
    {
     "data": {
      "text/plain": [
       "(396703, 1)"
      ]
     },
     "execution_count": 11,
     "metadata": {},
     "output_type": "execute_result"
    }
   ],
   "source": [
    "# Subset to non empty uniques\n",
    "print(len(emails))\n",
    "print(len(emails[emails == '']))\n",
    "\n",
    "unique_not_empty_emails = [e for e in set(emails) if e.strip()]\n",
    "parsed_emails = pd.DataFrame({\"email\": unique_not_empty_emails})\n",
    "parsed_emails.shape"
   ]
  },
  {
   "cell_type": "code",
   "execution_count": 12,
   "id": "2dc66c78-1197-4235-ae0b-f39ca85c10fa",
   "metadata": {},
   "outputs": [
    {
     "data": {
      "text/plain": [
       "(337481, 8)"
      ]
     },
     "execution_count": 12,
     "metadata": {},
     "output_type": "execute_result"
    }
   ],
   "source": [
    "# Merge parsed to valid emails (assuming our population is valid emails)\n",
    "voter_df = pd.read_csv(\"pwned_scripts/fl_emails_valid_or_not.csv\")\n",
    "\n",
    "parsed_voter = parsed_emails.merge(voter_df, how = 'left')\n",
    "parsed_valid = parsed_voter[parsed_voter['is_valid_email'] == True]\n",
    "parsed_valid.shape"
   ]
  },
  {
   "cell_type": "code",
   "execution_count": 13,
   "id": "70fef74e-2994-4288-8231-8f046cd4c452",
   "metadata": {},
   "outputs": [],
   "source": [
    "# Merge breaches to parsed\n",
    "fin_df = pd.merge(parsed_valid, br_email_df, how = 'left', on = 'email')"
   ]
  },
  {
   "cell_type": "code",
   "execution_count": 14,
   "id": "41f96b33-91b6-4860-b77f-ce5813a32801",
   "metadata": {},
   "outputs": [
    {
     "data": {
      "text/html": [
       "<div>\n",
       "<style scoped>\n",
       "    .dataframe tbody tr th:only-of-type {\n",
       "        vertical-align: middle;\n",
       "    }\n",
       "\n",
       "    .dataframe tbody tr th {\n",
       "        vertical-align: top;\n",
       "    }\n",
       "\n",
       "    .dataframe thead th {\n",
       "        text-align: right;\n",
       "    }\n",
       "</style>\n",
       "<table border=\"1\" class=\"dataframe\">\n",
       "  <thead>\n",
       "    <tr style=\"text-align: right;\">\n",
       "      <th></th>\n",
       "      <th>race</th>\n",
       "      <th>total_breaches</th>\n",
       "      <th>serious_breaches</th>\n",
       "      <th>non_fab_breaches</th>\n",
       "      <th>non_null_uniques</th>\n",
       "    </tr>\n",
       "  </thead>\n",
       "  <tbody>\n",
       "    <tr>\n",
       "      <th>count</th>\n",
       "      <td>337481.000000</td>\n",
       "      <td>337481.000000</td>\n",
       "      <td>337481.000000</td>\n",
       "      <td>337481.000000</td>\n",
       "      <td>337481.000000</td>\n",
       "    </tr>\n",
       "    <tr>\n",
       "      <th>mean</th>\n",
       "      <td>4.529351</td>\n",
       "      <td>7.544063</td>\n",
       "      <td>4.506043</td>\n",
       "      <td>7.544042</td>\n",
       "      <td>7.544063</td>\n",
       "    </tr>\n",
       "    <tr>\n",
       "      <th>std</th>\n",
       "      <td>1.080317</td>\n",
       "      <td>5.848437</td>\n",
       "      <td>4.090317</td>\n",
       "      <td>5.848315</td>\n",
       "      <td>5.848437</td>\n",
       "    </tr>\n",
       "    <tr>\n",
       "      <th>min</th>\n",
       "      <td>1.000000</td>\n",
       "      <td>0.000000</td>\n",
       "      <td>0.000000</td>\n",
       "      <td>0.000000</td>\n",
       "      <td>0.000000</td>\n",
       "    </tr>\n",
       "    <tr>\n",
       "      <th>25%</th>\n",
       "      <td>4.000000</td>\n",
       "      <td>3.000000</td>\n",
       "      <td>2.000000</td>\n",
       "      <td>3.000000</td>\n",
       "      <td>3.000000</td>\n",
       "    </tr>\n",
       "    <tr>\n",
       "      <th>50%</th>\n",
       "      <td>5.000000</td>\n",
       "      <td>6.000000</td>\n",
       "      <td>4.000000</td>\n",
       "      <td>6.000000</td>\n",
       "      <td>6.000000</td>\n",
       "    </tr>\n",
       "    <tr>\n",
       "      <th>75%</th>\n",
       "      <td>5.000000</td>\n",
       "      <td>11.000000</td>\n",
       "      <td>6.000000</td>\n",
       "      <td>11.000000</td>\n",
       "      <td>11.000000</td>\n",
       "    </tr>\n",
       "    <tr>\n",
       "      <th>max</th>\n",
       "      <td>9.000000</td>\n",
       "      <td>344.000000</td>\n",
       "      <td>298.000000</td>\n",
       "      <td>344.000000</td>\n",
       "      <td>344.000000</td>\n",
       "    </tr>\n",
       "  </tbody>\n",
       "</table>\n",
       "</div>"
      ],
      "text/plain": [
       "                race  total_breaches  serious_breaches  non_fab_breaches  \\\n",
       "count  337481.000000   337481.000000     337481.000000     337481.000000   \n",
       "mean        4.529351        7.544063          4.506043          7.544042   \n",
       "std         1.080317        5.848437          4.090317          5.848315   \n",
       "min         1.000000        0.000000          0.000000          0.000000   \n",
       "25%         4.000000        3.000000          2.000000          3.000000   \n",
       "50%         5.000000        6.000000          4.000000          6.000000   \n",
       "75%         5.000000       11.000000          6.000000         11.000000   \n",
       "max         9.000000      344.000000        298.000000        344.000000   \n",
       "\n",
       "       non_null_uniques  \n",
       "count     337481.000000  \n",
       "mean           7.544063  \n",
       "std            5.848437  \n",
       "min            0.000000  \n",
       "25%            3.000000  \n",
       "50%            6.000000  \n",
       "75%           11.000000  \n",
       "max          344.000000  "
      ]
     },
     "execution_count": 14,
     "metadata": {},
     "output_type": "execute_result"
    }
   ],
   "source": [
    "fin_df.fillna(0).describe()"
   ]
  },
  {
   "cell_type": "code",
   "execution_count": 15,
   "id": "00ba3f4e-7b09-4790-a1d8-36dd98d91dfb",
   "metadata": {},
   "outputs": [
    {
     "data": {
      "text/plain": [
       "(336461, 8)"
      ]
     },
     "execution_count": 15,
     "metadata": {},
     "output_type": "execute_result"
    }
   ],
   "source": [
    "# Focus on DNS validated emails\n",
    "parsed_valid = parsed_voter[parsed_voter['is_valid_email_dns'] == True]\n",
    "parsed_valid.shape"
   ]
  },
  {
   "cell_type": "code",
   "execution_count": 16,
   "id": "f9c46578-34d7-487b-a12b-7482aff623bc",
   "metadata": {},
   "outputs": [],
   "source": [
    "fin_df = pd.merge(parsed_valid, br_email_df, how = 'left', on = 'email')"
   ]
  },
  {
   "cell_type": "code",
   "execution_count": 17,
   "id": "8c5b44a7-b324-4bd6-8367-72e06b5333d7",
   "metadata": {},
   "outputs": [
    {
     "data": {
      "text/html": [
       "<div>\n",
       "<style scoped>\n",
       "    .dataframe tbody tr th:only-of-type {\n",
       "        vertical-align: middle;\n",
       "    }\n",
       "\n",
       "    .dataframe tbody tr th {\n",
       "        vertical-align: top;\n",
       "    }\n",
       "\n",
       "    .dataframe thead th {\n",
       "        text-align: right;\n",
       "    }\n",
       "</style>\n",
       "<table border=\"1\" class=\"dataframe\">\n",
       "  <thead>\n",
       "    <tr style=\"text-align: right;\">\n",
       "      <th></th>\n",
       "      <th>race</th>\n",
       "      <th>total_breaches</th>\n",
       "      <th>serious_breaches</th>\n",
       "      <th>non_fab_breaches</th>\n",
       "      <th>non_null_uniques</th>\n",
       "    </tr>\n",
       "  </thead>\n",
       "  <tbody>\n",
       "    <tr>\n",
       "      <th>count</th>\n",
       "      <td>336461.000000</td>\n",
       "      <td>336461.000000</td>\n",
       "      <td>336461.000000</td>\n",
       "      <td>336461.000000</td>\n",
       "      <td>336461.000000</td>\n",
       "    </tr>\n",
       "    <tr>\n",
       "      <th>mean</th>\n",
       "      <td>4.528837</td>\n",
       "      <td>7.545481</td>\n",
       "      <td>4.507878</td>\n",
       "      <td>7.545460</td>\n",
       "      <td>7.545481</td>\n",
       "    </tr>\n",
       "    <tr>\n",
       "      <th>std</th>\n",
       "      <td>1.080994</td>\n",
       "      <td>5.847809</td>\n",
       "      <td>4.090025</td>\n",
       "      <td>5.847687</td>\n",
       "      <td>5.847809</td>\n",
       "    </tr>\n",
       "    <tr>\n",
       "      <th>min</th>\n",
       "      <td>1.000000</td>\n",
       "      <td>0.000000</td>\n",
       "      <td>0.000000</td>\n",
       "      <td>0.000000</td>\n",
       "      <td>0.000000</td>\n",
       "    </tr>\n",
       "    <tr>\n",
       "      <th>25%</th>\n",
       "      <td>4.000000</td>\n",
       "      <td>3.000000</td>\n",
       "      <td>2.000000</td>\n",
       "      <td>3.000000</td>\n",
       "      <td>3.000000</td>\n",
       "    </tr>\n",
       "    <tr>\n",
       "      <th>50%</th>\n",
       "      <td>5.000000</td>\n",
       "      <td>6.000000</td>\n",
       "      <td>4.000000</td>\n",
       "      <td>6.000000</td>\n",
       "      <td>6.000000</td>\n",
       "    </tr>\n",
       "    <tr>\n",
       "      <th>75%</th>\n",
       "      <td>5.000000</td>\n",
       "      <td>11.000000</td>\n",
       "      <td>6.000000</td>\n",
       "      <td>11.000000</td>\n",
       "      <td>11.000000</td>\n",
       "    </tr>\n",
       "    <tr>\n",
       "      <th>max</th>\n",
       "      <td>9.000000</td>\n",
       "      <td>344.000000</td>\n",
       "      <td>298.000000</td>\n",
       "      <td>344.000000</td>\n",
       "      <td>344.000000</td>\n",
       "    </tr>\n",
       "  </tbody>\n",
       "</table>\n",
       "</div>"
      ],
      "text/plain": [
       "                race  total_breaches  serious_breaches  non_fab_breaches  \\\n",
       "count  336461.000000   336461.000000     336461.000000     336461.000000   \n",
       "mean        4.528837        7.545481          4.507878          7.545460   \n",
       "std         1.080994        5.847809          4.090025          5.847687   \n",
       "min         1.000000        0.000000          0.000000          0.000000   \n",
       "25%         4.000000        3.000000          2.000000          3.000000   \n",
       "50%         5.000000        6.000000          4.000000          6.000000   \n",
       "75%         5.000000       11.000000          6.000000         11.000000   \n",
       "max         9.000000      344.000000        298.000000        344.000000   \n",
       "\n",
       "       non_null_uniques  \n",
       "count     336461.000000  \n",
       "mean           7.545481  \n",
       "std            5.847809  \n",
       "min            0.000000  \n",
       "25%            3.000000  \n",
       "50%            6.000000  \n",
       "75%           11.000000  \n",
       "max          344.000000  "
      ]
     },
     "execution_count": 17,
     "metadata": {},
     "output_type": "execute_result"
    }
   ],
   "source": [
    "fin_df.fillna(0).describe()"
   ]
  },
  {
   "cell_type": "code",
   "execution_count": 18,
   "id": "9572cf99-d55e-4d75-9a1a-5486bb90dd0c",
   "metadata": {},
   "outputs": [
    {
     "data": {
      "text/plain": [
       "'|       |         race |   total_breaches |   serious_breaches |   non_fab_breaches |   non_null_uniques |\\n|:------|-------------:|-----------------:|-------------------:|-------------------:|-------------------:|\\n| count | 336461       |     336050       |       336050       |       336050       |       336050       |\\n| mean  |      4.52884 |          7.55471 |            4.51339 |            7.55469 |            7.55471 |\\n| std   |      1.08099 |          5.84542 |            4.08948 |            5.8453  |            5.84542 |\\n| min   |      1       |          1       |            0       |            1       |            1       |\\n| 25%   |      4       |          3       |            2       |            3       |            3       |\\n| 50%   |      5       |          6       |            4       |            6       |            6       |\\n| 75%   |      5       |         11       |            6       |           11       |           11       |\\n| max   |      9       |        344       |          298       |          344       |          344       |'"
      ]
     },
     "execution_count": 18,
     "metadata": {},
     "output_type": "execute_result"
    }
   ],
   "source": [
    "fin_df.describe().to_markdown()"
   ]
  },
  {
   "cell_type": "code",
   "execution_count": 19,
   "id": "cec5b8a8-3378-429c-8cd4-ecea4d3a3709",
   "metadata": {},
   "outputs": [
    {
     "data": {
      "text/plain": [
       "0.9987784616939259"
      ]
     },
     "execution_count": 19,
     "metadata": {},
     "output_type": "execute_result"
    }
   ],
   "source": [
    "(fin_df.fillna(0)['total_breaches'] > 0).mean()"
   ]
  },
  {
   "cell_type": "code",
   "execution_count": 20,
   "id": "9a814a74-079d-4cb0-b92f-464f73dc39d1",
   "metadata": {},
   "outputs": [],
   "source": [
    "fin_df.fillna(0, inplace = True)"
   ]
  },
  {
   "cell_type": "markdown",
   "id": "ff50550c-a52e-462a-8f28-b0188881e36c",
   "metadata": {},
   "source": [
    "### Digital Gap: Sociodemographic Predictors of Breaches"
   ]
  },
  {
   "cell_type": "code",
   "execution_count": 21,
   "id": "9de7c56f-3abc-44f9-ad1b-8bf7e368a2c0",
   "metadata": {},
   "outputs": [],
   "source": [
    "def calculate_summary_statistics(data_df, groupby_column, value_column, percentiles=None):\n",
    "    \"\"\"\n",
    "    Calculate summary statistics for a given DataFrame.\n",
    "\n",
    "    Parameters:\n",
    "        data_df (DataFrame): The DataFrame containing the data.\n",
    "        groupby_column (str): The column to group by.\n",
    "        value_column (str): The column for which to calculate statistics.\n",
    "        percentiles (list, optional): List of percentiles to calculate. Default is None.\n",
    "\n",
    "    Returns:\n",
    "        DataFrame: A DataFrame with the summary statistics.\n",
    "    \"\"\"\n",
    "    if percentiles is None:\n",
    "        percentiles = [25, 50, 75]\n",
    "\n",
    "    # Calculate summary statistics\n",
    "    summary_stats = data_df.groupby(groupby_column)[value_column].agg(['count', 'mean', 'std', 'min', 'max']).round(1)\n",
    "\n",
    "    # Calculate percentile values\n",
    "    percentile_values = data_df.groupby(groupby_column)[value_column].apply(lambda x: pd.Series(np.nanpercentile(x, percentiles), index=percentiles)).unstack().round(1)\n",
    "\n",
    "    # Merge summary statistics and percentile values\n",
    "    summary_with_percentiles = pd.merge(summary_stats, percentile_values, left_index=True, right_index=True)\n",
    "\n",
    "    # Reorder columns\n",
    "    desired_columns = ['count', 'mean', 'std', 'min'] + percentiles + ['max']\n",
    "    summary_with_percentiles = summary_with_percentiles.reindex(columns=desired_columns).reset_index()\n",
    "\n",
    "    return summary_with_percentiles"
   ]
  },
  {
   "cell_type": "code",
   "execution_count": 22,
   "id": "b7f3c3fa-07ef-4d76-8287-7ed63c60d37b",
   "metadata": {},
   "outputs": [
    {
     "name": "stdout",
     "output_type": "stream",
     "text": [
      "  gender   count  mean  std  min   25   50    75    max\n",
      "0      0       3   7.7  5.0  3.0  5.0  7.0  10.0   13.0\n",
      "1      F  178159   7.7  5.7  0.0  3.0  7.0  11.0  344.0\n",
      "2      M  153505   7.4  6.0  0.0  3.0  6.0  10.0  344.0\n",
      "3      U    4794   6.5  5.6  0.0  3.0  5.0   9.0  195.0\n"
     ]
    }
   ],
   "source": [
    "gen_sum = calculate_summary_statistics(fin_df, \n",
    "                                   groupby_column='gender', \n",
    "                                   value_column='total_breaches',\n",
    "                                   percentiles = [25, 50, 75])\n",
    "print(gen_sum)"
   ]
  },
  {
   "cell_type": "code",
   "execution_count": 23,
   "id": "6f56a497-bfbf-4a4c-a14b-fdc68121ef71",
   "metadata": {},
   "outputs": [
    {
     "data": {
      "text/plain": [
       "'|    | gender   |   count |   mean |   std |   min |   25 |   50 |   75 |   max |\\n|---:|:---------|--------:|-------:|------:|------:|-----:|-----:|-----:|------:|\\n|  0 | 0        |       3 |    7.7 |   5   |     3 |    5 |    7 |   10 |    13 |\\n|  1 | F        |  178159 |    7.7 |   5.7 |     0 |    3 |    7 |   11 |   344 |\\n|  2 | M        |  153505 |    7.4 |   6   |     0 |    3 |    6 |   10 |   344 |\\n|  3 | U        |    4794 |    6.5 |   5.6 |     0 |    3 |    5 |    9 |   195 |'"
      ]
     },
     "execution_count": 23,
     "metadata": {},
     "output_type": "execute_result"
    }
   ],
   "source": [
    "gen_sum.to_markdown()"
   ]
  },
  {
   "cell_type": "code",
   "execution_count": 24,
   "id": "4fb5a893-0b67-4391-adff-f7085af46ed6",
   "metadata": {},
   "outputs": [
    {
     "name": "stdout",
     "output_type": "stream",
     "text": [
      "           race_lit   count  mean  std  min   25   50    75    max\n",
      "0             Asian    8077   7.2  5.8  0.0  3.0  6.0  10.0  154.0\n",
      "1          Hispanic   65518   7.3  5.7  0.0  3.0  6.0  10.0  344.0\n",
      "2      Multi-Racial    2625   7.2  5.4  0.0  3.0  6.0  10.0   53.0\n",
      "3          NH Black   51106   7.2  5.9  0.0  3.0  6.0  10.0  344.0\n",
      "4          NH White  193798   7.8  5.9  0.0  3.0  7.0  11.0  344.0\n",
      "5  Native Americans     879   7.3  5.5  0.0  3.0  6.0  10.0   42.0\n",
      "6             Other    8711   7.5  5.7  0.0  3.0  6.0  11.0   55.0\n",
      "7           Unknown    5747   6.7  5.9  0.0  3.0  5.0   9.0  195.0\n"
     ]
    }
   ],
   "source": [
    "race_sum = calculate_summary_statistics(fin_df, \n",
    "                                   groupby_column='race_lit', \n",
    "                                   value_column='total_breaches',\n",
    "                                   percentiles = [25, 50, 75])\n",
    "print(race_sum)"
   ]
  },
  {
   "cell_type": "code",
   "execution_count": 25,
   "id": "2c06be44-368d-44ed-b277-be4be421e7a5",
   "metadata": {},
   "outputs": [
    {
     "data": {
      "text/plain": [
       "'|    | race_lit         |   count |   mean |   std |   min |   25 |   50 |   75 |   max |\\n|---:|:-----------------|--------:|-------:|------:|------:|-----:|-----:|-----:|------:|\\n|  0 | Asian            |    8077 |    7.2 |   5.8 |     0 |    3 |    6 |   10 |   154 |\\n|  1 | Hispanic         |   65518 |    7.3 |   5.7 |     0 |    3 |    6 |   10 |   344 |\\n|  2 | Multi-Racial     |    2625 |    7.2 |   5.4 |     0 |    3 |    6 |   10 |    53 |\\n|  3 | NH Black         |   51106 |    7.2 |   5.9 |     0 |    3 |    6 |   10 |   344 |\\n|  4 | NH White         |  193798 |    7.8 |   5.9 |     0 |    3 |    7 |   11 |   344 |\\n|  5 | Native Americans |     879 |    7.3 |   5.5 |     0 |    3 |    6 |   10 |    42 |\\n|  6 | Other            |    8711 |    7.5 |   5.7 |     0 |    3 |    6 |   11 |    55 |\\n|  7 | Unknown          |    5747 |    6.7 |   5.9 |     0 |    3 |    5 |    9 |   195 |'"
      ]
     },
     "execution_count": 25,
     "metadata": {},
     "output_type": "execute_result"
    }
   ],
   "source": [
    "race_sum.to_markdown()"
   ]
  },
  {
   "cell_type": "code",
   "execution_count": 26,
   "id": "b0acd0ff-e533-4020-9422-ee6ac297de6b",
   "metadata": {},
   "outputs": [
    {
     "data": {
      "text/plain": [
       "age_lab\n",
       "25--50    143795\n",
       "50--65     89852\n",
       "65+        68626\n",
       "<25        34188\n",
       "Name: count, dtype: int64"
      ]
     },
     "execution_count": 26,
     "metadata": {},
     "output_type": "execute_result"
    }
   ],
   "source": [
    "# Recode Age\n",
    "\n",
    "fin_df['age'] = 2022 - pd.to_datetime(fin_df['birth_yr'], format='%m/%d/%Y').dt.year\n",
    "age_buckets = [0, 25, 50, 65, 120]\n",
    "labels = ['<25', '25--50', '50--65', '65+'] \n",
    "\n",
    "fin_df['age_lab'] = pd.cut(fin_df['age'], bins = age_buckets, labels = labels)\n",
    "fin_df['age_lab'].value_counts()"
   ]
  },
  {
   "cell_type": "code",
   "execution_count": 27,
   "id": "5fd95008-3484-43b1-a981-614bab72e7b9",
   "metadata": {},
   "outputs": [
    {
     "name": "stdout",
     "output_type": "stream",
     "text": [
      "  age_lab   count  mean  std  min   25   50    75    max\n",
      "0     <25   34188   6.1  5.4  0.0  2.0  5.0   9.0  344.0\n",
      "1  25--50  143795   7.7  5.8  0.0  3.0  6.0  11.0  344.0\n",
      "2  50--65   89852   8.0  5.9  0.0  3.0  7.0  11.0  164.0\n",
      "3     65+   68626   7.4  5.9  0.0  3.0  6.0  11.0  344.0\n"
     ]
    }
   ],
   "source": [
    "print(calculate_summary_statistics(fin_df, \n",
    "                                   groupby_column='age_lab', \n",
    "                                   value_column='total_breaches',\n",
    "                                   percentiles = [25, 50, 75]))"
   ]
  },
  {
   "cell_type": "code",
   "execution_count": 28,
   "id": "40abe06b-4056-4935-9487-b815f86b10b5",
   "metadata": {},
   "outputs": [
    {
     "data": {
      "image/png": "[encoded data removed]",
      "text/plain": [
       "<Figure size 720x432 with 1 Axes>"
      ]
     },
     "metadata": {
      "needs_background": "light"
     },
     "output_type": "display_data"
    }
   ],
   "source": [
    "import matplotlib.pyplot as plt\n",
    "import statsmodels.api as sm\n",
    "import seaborn as sns\n",
    "from matplotlib.ticker import MultipleLocator\n",
    "\n",
    "lowess = sm.nonparametric.lowess\n",
    "\n",
    "lowess_model = lowess(fin_df['total_breaches'], fin_df['age'], frac=0.07)\n",
    "\n",
    "# Create the plot using seaborn and matplotlib\n",
    "sns.set_style(\"whitegrid\")  # Set the plot style\n",
    "plt.figure(figsize=(10, 6))\n",
    "plt.plot(lowess_model[:, 0], lowess_model[:, 1], color='red', linewidth=2, label='Lowess Smoothed')\n",
    "\n",
    "plt.xlabel('Age', fontsize=14)\n",
    "plt.ylabel('Total Breaches', fontsize=14)\n",
    "plt.title('Lowess Smoothed Plot', fontsize=16)\n",
    "plt.legend(fontsize=12)\n",
    "\n",
    "# Adjust tick label sizes\n",
    "plt.xticks(fontsize=12)\n",
    "plt.yticks(fontsize=12)\n",
    "\n",
    "plt.gca().xaxis.set_major_locator(MultipleLocator(base=10))\n",
    "plt.xlim(min(fin_df['age']), max(fin_df['age']))\n",
    "\n",
    "# Add a light gray background to the plot\n",
    "plt.gca().set_facecolor('#f0f0f0')\n",
    "\n",
    "# Remove right and top spines\n",
    "plt.gca().spines['right'].set_visible(False)\n",
    "plt.gca().spines['top'].set_visible(False)\n",
    "\n",
    "\n",
    "plt.tight_layout()\n",
    "\n",
    "plt.savefig('age_breaches.png', dpi=300)\n",
    "plt.show()"
   ]
  },
  {
   "cell_type": "code",
   "execution_count": 30,
   "id": "56cbe4ac-9394-4c4b-afac-e7a0f0811eba",
   "metadata": {},
   "outputs": [
    {
     "data": {
      "image/png": "[encoded data removed]",
      "text/plain": [
       "<Figure size 720x432 with 1 Axes>"
      ]
     },
     "metadata": {},
     "output_type": "display_data"
    }
   ],
   "source": [
    "# Let's winsorize or we can lowess over medians\n",
    "from scipy.stats.mstats import winsorize\n",
    "winsorized_breaches = winsorize(fin_df['total_breaches'], limits=(0.0, 0.2))\n",
    "\n",
    "lowess_model = lowess(winsorized_breaches, fin_df['age'], frac=0.07)\n",
    "\n",
    "# Create the plot using seaborn and matplotlib\n",
    "sns.set_style(\"whitegrid\")  # Set the plot style\n",
    "plt.figure(figsize=(10, 6))\n",
    "plt.plot(lowess_model[:, 0], lowess_model[:, 1], color='red', linewidth=2, label='Lowess Smoothed')\n",
    "\n",
    "plt.xlabel('Age', fontsize=14)\n",
    "plt.ylabel('Total Breaches (Winsorized)', fontsize=14)\n",
    "plt.title('Lowess Smoothed Plot', fontsize=16)\n",
    "plt.legend(fontsize=12)\n",
    "\n",
    "# Adjust tick label sizes\n",
    "plt.xticks(fontsize=12)\n",
    "plt.yticks(fontsize=12)\n",
    "\n",
    "plt.gca().xaxis.set_major_locator(MultipleLocator(base=10))\n",
    "plt.xlim(min(fin_df['age']), max(fin_df['age']))\n",
    "\n",
    "# Add a light gray background to the plot\n",
    "plt.gca().set_facecolor('#f0f0f0')\n",
    "\n",
    "# Remove right and top spines\n",
    "plt.gca().spines['right'].set_visible(False)\n",
    "plt.gca().spines['top'].set_visible(False)\n",
    "\n",
    "\n",
    "plt.tight_layout()\n",
    "\n",
    "plt.savefig('age_winsorized_breaches.png', dpi=300)\n",
    "plt.show()"
   ]
  },
  {
   "cell_type": "code",
   "execution_count": null,
   "id": "6e0d63fb-b422-41c8-b675-b87230298f14",
   "metadata": {},
   "outputs": [],
   "source": []
  }
 ],
 "metadata": {
  "kernelspec": {
   "display_name": "Python 3 (ipykernel)",
   "language": "python",
   "name": "python3"
  },
  "language_info": {
   "codemirror_mode": {
    "name": "ipython",
    "version": 3
   },
   "file_extension": ".py",
   "mimetype": "text/x-python",
   "name": "python",
   "nbconvert_exporter": "python",
   "pygments_lexer": "ipython3",
   "version": "3.8.10"
  }
 },
 "nbformat": 4,
 "nbformat_minor": 5
}
