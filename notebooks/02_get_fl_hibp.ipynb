{
 "cells": [
  {
   "cell_type": "markdown",
   "id": "27c952ae-6d89-450f-9784-a8a8c657721b",
   "metadata": {},
   "source": [
    "### Get HIBP Data"
   ]
  },
  {
   "cell_type": "code",
   "execution_count": 1,
   "id": "8068822e-83d0-4234-b9f9-ece6e78503cd",
   "metadata": {},
   "outputs": [],
   "source": [
    "import pandas as pd\n",
    "import requests\n",
    "import os\n",
    "import time\n",
    "import logging"
   ]
  },
  {
   "cell_type": "code",
   "execution_count": 2,
   "id": "0240009e-4418-431b-aa09-01ff8c836797",
   "metadata": {},
   "outputs": [
    {
     "data": {
      "text/html": [
       "<div>\n",
       "<style scoped>\n",
       "    .dataframe tbody tr th:only-of-type {\n",
       "        vertical-align: middle;\n",
       "    }\n",
       "\n",
       "    .dataframe tbody tr th {\n",
       "        vertical-align: top;\n",
       "    }\n",
       "\n",
       "    .dataframe thead th {\n",
       "        text-align: right;\n",
       "    }\n",
       "</style>\n",
       "<table border=\"1\" class=\"dataframe\">\n",
       "  <thead>\n",
       "    <tr style=\"text-align: right;\">\n",
       "      <th></th>\n",
       "      <th>lname</th>\n",
       "      <th>fname</th>\n",
       "      <th>email</th>\n",
       "    </tr>\n",
       "  </thead>\n",
       "  <tbody>\n",
       "    <tr>\n",
       "      <th>0</th>\n",
       "      <td>Hall</td>\n",
       "      <td>Ronald</td>\n",
       "      <td>hallronnie4120@yahoo.com</td>\n",
       "    </tr>\n",
       "    <tr>\n",
       "      <th>1</th>\n",
       "      <td>Combs</td>\n",
       "      <td>Leroy</td>\n",
       "      <td>bkcombs911@gmail.com</td>\n",
       "    </tr>\n",
       "    <tr>\n",
       "      <th>2</th>\n",
       "      <td>Jackson</td>\n",
       "      <td>Donna</td>\n",
       "      <td>jiffy123@embarqmail.com</td>\n",
       "    </tr>\n",
       "    <tr>\n",
       "      <th>3</th>\n",
       "      <td>Linzy</td>\n",
       "      <td>Robin</td>\n",
       "      <td>LINZYROBIN65@GMAIL.COM</td>\n",
       "    </tr>\n",
       "    <tr>\n",
       "      <th>4</th>\n",
       "      <td>Bell</td>\n",
       "      <td>Brandi</td>\n",
       "      <td>hotgirl102806@yahoo.com</td>\n",
       "    </tr>\n",
       "    <tr>\n",
       "      <th>...</th>\n",
       "      <td>...</td>\n",
       "      <td>...</td>\n",
       "      <td>...</td>\n",
       "    </tr>\n",
       "    <tr>\n",
       "      <th>1400912</th>\n",
       "      <td>Rosario</td>\n",
       "      <td>Astriana</td>\n",
       "      <td>ACROSARIO.CONTACT@GMAIL.COM</td>\n",
       "    </tr>\n",
       "    <tr>\n",
       "      <th>1400913</th>\n",
       "      <td>Riel</td>\n",
       "      <td>Jacqueline</td>\n",
       "      <td>jlemsp@hotmail.com</td>\n",
       "    </tr>\n",
       "    <tr>\n",
       "      <th>1400914</th>\n",
       "      <td>Matthews</td>\n",
       "      <td>John</td>\n",
       "      <td>Johnanhank94@gmail.com</td>\n",
       "    </tr>\n",
       "    <tr>\n",
       "      <th>1400915</th>\n",
       "      <td>Stewart</td>\n",
       "      <td>Tyler</td>\n",
       "      <td>TJSTEW@YMAIL.COM</td>\n",
       "    </tr>\n",
       "    <tr>\n",
       "      <th>1400916</th>\n",
       "      <td>Baldridge</td>\n",
       "      <td>Benjamin</td>\n",
       "      <td>benjamin.baldridge@live.com</td>\n",
       "    </tr>\n",
       "  </tbody>\n",
       "</table>\n",
       "<p>1400917 rows × 3 columns</p>\n",
       "</div>"
      ],
      "text/plain": [
       "             lname       fname                        email\n",
       "0             Hall      Ronald     hallronnie4120@yahoo.com\n",
       "1            Combs       Leroy         bkcombs911@gmail.com\n",
       "2          Jackson       Donna      jiffy123@embarqmail.com\n",
       "3            Linzy       Robin       LINZYROBIN65@GMAIL.COM\n",
       "4             Bell      Brandi      hotgirl102806@yahoo.com\n",
       "...            ...         ...                          ...\n",
       "1400912    Rosario    Astriana  ACROSARIO.CONTACT@GMAIL.COM\n",
       "1400913       Riel  Jacqueline           jlemsp@hotmail.com\n",
       "1400914   Matthews        John       Johnanhank94@gmail.com\n",
       "1400915    Stewart       Tyler             TJSTEW@YMAIL.COM\n",
       "1400916  Baldridge    Benjamin  benjamin.baldridge@live.com\n",
       "\n",
       "[1400917 rows x 3 columns]"
      ]
     },
     "execution_count": 2,
     "metadata": {},
     "output_type": "execute_result"
    }
   ],
   "source": [
    "df = pd.read_csv(\"fl_emails.csv\")\n",
    "df"
   ]
  },
  {
   "cell_type": "code",
   "execution_count": 3,
   "id": "2a2601e3-fc7d-43c8-9172-3fd84ef7f097",
   "metadata": {},
   "outputs": [],
   "source": [
    "# HIBP\n",
    "url = \"https://haveibeenpwned.com/api/v3/breachedaccount/<account>\"\n",
    "hibp_api_key = 'a47da1673102455697676866af42eb06'\n",
    "payload={}\n",
    "headers = {\n",
    "  'hibp-api-key': str(hibp_api_key),\n",
    "  'format': 'application/json',\n",
    "  'timeout': '2.5',\n",
    "  'HIBP': str(hibp_api_key),\n",
    "}"
   ]
  },
  {
   "cell_type": "code",
   "execution_count": 4,
   "id": "394014f8-e075-4a0d-8c56-9cd87ad201d7",
   "metadata": {},
   "outputs": [],
   "source": [
    "logging.basicConfig(filename='pwned.log', level=logging.INFO, \n",
    "                    format='%(asctime)s - %(levelname)s - %(message)s')"
   ]
  },
  {
   "cell_type": "code",
   "execution_count": null,
   "id": "b7b6707c-aab2-448b-a3ff-f6c2fa9c2487",
   "metadata": {},
   "outputs": [],
   "source": [
    "for index, row in df.iterrows():\n",
    "    email = row['email'].strip()\n",
    "    url = f\"https://haveibeenpwned.com/api/v3/breachedaccount/{email}\"\n",
    "    try:\n",
    "        response = requests.request(\"GET\", url, headers=headers, data=payload)\n",
    "        response.raise_for_status()  # Check for any HTTP errors\n",
    "\n",
    "        with open(f\"pwned/{email}.json\", \"wb\") as f:\n",
    "            f.write(response.content)\n",
    "        logging.info(f\"Saved {email}\")\n",
    "    except requests.exceptions.RequestException as e:\n",
    "        logging.error(f\"Error processing {email}: {e}\")\n",
    "    \n",
    "    time.sleep(1.5)"
   ]
  },
  {
   "cell_type": "code",
   "execution_count": null,
   "id": "ca42ff7f-2b17-4fb3-b21a-46de49a2bc69",
   "metadata": {},
   "outputs": [],
   "source": []
  }
 ],
 "metadata": {
  "kernelspec": {
   "display_name": "Python 3 (ipykernel)",
   "language": "python",
   "name": "python3"
  },
  "language_info": {
   "codemirror_mode": {
    "name": "ipython",
    "version": 3
   },
   "file_extension": ".py",
   "mimetype": "text/x-python",
   "name": "python",
   "nbconvert_exporter": "python",
   "pygments_lexer": "ipython3",
   "version": "3.8.10"
  }
 },
 "nbformat": 4,
 "nbformat_minor": 5
}
