{
 "cells": [
  {
   "cell_type": "markdown",
   "id": "bc33c507-f903-467a-9506-4ae6ced5f90a",
   "metadata": {},
   "source": [
    "### Merge"
   ]
  },
  {
   "cell_type": "code",
   "execution_count": 1,
   "id": "7d33d3fd-ff46-4737-86e7-df578937b539",
   "metadata": {},
   "outputs": [],
   "source": [
    "import pandas as pd"
   ]
  },
  {
   "cell_type": "code",
   "execution_count": 2,
   "id": "c6f5fe4e-42d2-4e02-9a8a-11e741a98199",
   "metadata": {},
   "outputs": [],
   "source": [
    "# Load\n",
    "left_df = pd.read_csv(\"data/fl_emails_valid_or_not.csv\", \n",
    "                       usecols = ['email', 'is_valid_email', 'is_valid_email_dns'])\n",
    "right_df = pd.read_csv('data/fl_emails.csv')"
   ]
  },
  {
   "cell_type": "code",
   "execution_count": 3,
   "id": "6ec8cb87-d640-42a8-80ad-d82dccb9bd3a",
   "metadata": {},
   "outputs": [],
   "source": [
    "# Remove duplicates that are going to cause complications\n",
    "#left_df = left_df[left_df.email != \"*\"]\n",
    "left_df.drop_duplicates(subset = ['email'], keep = False, inplace = True)"
   ]
  },
  {
   "cell_type": "code",
   "execution_count": 4,
   "id": "f5211842-b13d-4ebc-85b3-30c80516c1c6",
   "metadata": {},
   "outputs": [
    {
     "data": {
      "text/plain": [
       "(1321970, 8)"
      ]
     },
     "execution_count": 4,
     "metadata": {},
     "output_type": "execute_result"
    }
   ],
   "source": [
    "out_df = pd.merge(left_df, right_df, how = 'left', on = 'email')\n",
    "out_df.shape"
   ]
  },
  {
   "cell_type": "code",
   "execution_count": 5,
   "id": "27fd3622-dbb6-49dd-b027-21c8897ffaf8",
   "metadata": {},
   "outputs": [],
   "source": [
    "out_df.to_csv(\"data/fl_valid_emails.csv\", index = False)"
   ]
  },
  {
   "cell_type": "code",
   "execution_count": null,
   "id": "98fbed31-8edf-4364-943d-2428a702cca0",
   "metadata": {},
   "outputs": [],
   "source": []
  }
 ],
 "metadata": {
  "kernelspec": {
   "display_name": "Python 3 (ipykernel)",
   "language": "python",
   "name": "python3"
  },
  "language_info": {
   "codemirror_mode": {
    "name": "ipython",
    "version": 3
   },
   "file_extension": ".py",
   "mimetype": "text/x-python",
   "name": "python",
   "nbconvert_exporter": "python",
   "pygments_lexer": "ipython3",
   "version": "3.8.10"
  }
 },
 "nbformat": 4,
 "nbformat_minor": 5
}
