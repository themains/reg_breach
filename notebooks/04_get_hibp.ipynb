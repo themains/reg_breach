{
 "cells": [
  {
   "cell_type": "markdown",
   "id": "27c952ae-6d89-450f-9784-a8a8c657721b",
   "metadata": {},
   "source": [
    "### Get HIBP Data"
   ]
  },
  {
   "cell_type": "code",
   "execution_count": 1,
   "id": "8068822e-83d0-4234-b9f9-ece6e78503cd",
   "metadata": {},
   "outputs": [],
   "source": [
    "import pandas as pd\n",
    "import requests\n",
    "import os\n",
    "import time\n",
    "import logging\n",
    "from tqdm import tqdm"
   ]
  },
  {
   "cell_type": "code",
   "execution_count": 2,
   "id": "0240009e-4418-431b-aa09-01ff8c836797",
   "metadata": {},
   "outputs": [],
   "source": [
    "df = pd.read_csv(\"data/fl_valid_emails.csv\", low_memory = False)"
   ]
  },
  {
   "cell_type": "markdown",
   "id": "334361e7-b181-4134-a651-7dba814651ca",
   "metadata": {},
   "source": [
    "### Take out already processed emails"
   ]
  },
  {
   "cell_type": "code",
   "execution_count": 3,
   "id": "f58e498e-aff8-4c48-b2d7-f3bb764efa98",
   "metadata": {},
   "outputs": [],
   "source": [
    "def extract_email(log_message):\n",
    "    if \"INFO - Saved\" in log_message:\n",
    "        start_index = log_message.find(\"Saved\") + 6  # Length of \"Saved\" + space\n",
    "        end_index = log_message.find(\"\\n\")\n",
    "    elif \"Error processing\" in log_message and \": 404\" in log_message:\n",
    "        start_index = log_message.find(\"Error processing\") + len(\"Error processing\") + 1  # Length of \"Error processing\" + space\n",
    "        end_index = log_message.find(\": 404\") # Length of \": 404\" + space\n",
    "    else:\n",
    "        return None\n",
    "\n",
    "    email = log_message[start_index:end_index].strip()\n",
    "    return email"
   ]
  },
  {
   "cell_type": "code",
   "execution_count": 4,
   "id": "7a11519c-afa1-47a2-8ea5-21f17cd46b3c",
   "metadata": {},
   "outputs": [],
   "source": [
    "# Read the log file into a list of lines\n",
    "with open('pwned_hibp_logs.txt', 'r') as file:\n",
    "    log_lines = file.readlines()\n",
    "\n",
    "# Extract emails from log messages and create a list of email addresses\n",
    "emails = [extract_email(log_line) for log_line in log_lines if \"Saved\" in log_line or (\"Error processing\" in log_line and \": 404\" in log_line)]\n",
    "emails_lower = [email.lower() for email in emails]\n",
    "filtered_list = [item for item in emails_lower if item != '']"
   ]
  },
  {
   "cell_type": "code",
   "execution_count": 5,
   "id": "7ea461f7-aacd-49bd-a06c-0d1ac8598bcf",
   "metadata": {},
   "outputs": [
    {
     "data": {
      "text/plain": [
       "(0, 8)"
      ]
     },
     "execution_count": 5,
     "metadata": {},
     "output_type": "execute_result"
    }
   ],
   "source": [
    "df = df[~ df['email'].str.lower().isin(filtered_list)]\n",
    "df.shape"
   ]
  },
  {
   "cell_type": "code",
   "execution_count": 6,
   "id": "e3800e27-08c6-459e-be8c-f77a59fd69c7",
   "metadata": {},
   "outputs": [],
   "source": [
    "# Read HIBP Key\n",
    "with open('hipb_key.txt', 'r') as file:\n",
    "    hibp_api_key = file.read()"
   ]
  },
  {
   "cell_type": "code",
   "execution_count": 7,
   "id": "2a2601e3-fc7d-43c8-9172-3fd84ef7f097",
   "metadata": {},
   "outputs": [],
   "source": [
    "# HIBP\n",
    "url = \"https://haveibeenpwned.com/api/v3/breachedaccount/<account>\"\n",
    "payload={}\n",
    "headers = {\n",
    "  'hibp-api-key': str(hibp_api_key),\n",
    "  'format': 'application/json',\n",
    "  'timeout': '2.5',\n",
    "  'HIBP': str(hibp_api_key),\n",
    "}"
   ]
  },
  {
   "cell_type": "code",
   "execution_count": 8,
   "id": "394014f8-e075-4a0d-8c56-9cd87ad201d7",
   "metadata": {},
   "outputs": [],
   "source": [
    "logging.basicConfig(filename='pwned_hibp_logs.txt', level=logging.INFO, \n",
    "                    format='%(asctime)s - %(levelname)s - %(message)s')"
   ]
  },
  {
   "cell_type": "code",
   "execution_count": 9,
   "id": "196492bd-a4ae-472c-8431-4fd0500cc9d2",
   "metadata": {},
   "outputs": [],
   "source": [
    "def process_row(row):\n",
    "    email = row['email'].strip()\n",
    "    url = f\"https://haveibeenpwned.com/api/v3/breachedaccount/{email}\"\n",
    "    \n",
    "    # Check if the file already exists before making the API call and writing to it\n",
    "    file_path = f\"pwned/{email}.json\"\n",
    "    if not os.path.exists(file_path):\n",
    "        time.sleep(1.5)\n",
    "        try:\n",
    "            response = requests.request(\"GET\", url, headers=headers, data=payload)\n",
    "            response.raise_for_status()  # Check for any HTTP errors\n",
    "            with open(file_path, \"wb\") as f:\n",
    "                f.write(response.content)\n",
    "            logging.info(f\"Saved {email}\")\n",
    "        except requests.exceptions.RequestException as e:\n",
    "            logging.error(f\"Error processing {email}: {e}\")"
   ]
  },
  {
   "cell_type": "code",
   "execution_count": 10,
   "id": "6158cf44-d050-42b7-9154-8512f5db51a5",
   "metadata": {},
   "outputs": [
    {
     "name": "stderr",
     "output_type": "stream",
     "text": [
      "Processing emails: 0it [00:00, ?it/s]\n"
     ]
    }
   ],
   "source": [
    "for index, row in tqdm(df.iterrows(), total=len(df), desc='Processing emails'):\n",
    "    process_row(row)"
   ]
  },
  {
   "cell_type": "code",
   "execution_count": null,
   "id": "42e87f12-2f63-431c-9ebc-3b2ebb849119",
   "metadata": {},
   "outputs": [],
   "source": []
  }
 ],
 "metadata": {
  "kernelspec": {
   "display_name": "Python 3 (ipykernel)",
   "language": "python",
   "name": "python3"
  },
  "language_info": {
   "codemirror_mode": {
    "name": "ipython",
    "version": 3
   },
   "file_extension": ".py",
   "mimetype": "text/x-python",
   "name": "python",
   "nbconvert_exporter": "python",
   "pygments_lexer": "ipython3",
   "version": "3.8.10"
  }
 },
 "nbformat": 4,
 "nbformat_minor": 5
}
