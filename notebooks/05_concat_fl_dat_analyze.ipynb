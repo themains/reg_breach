{
 "cells": [
  {
   "cell_type": "markdown",
   "id": "a7194663-9bca-4021-b253-fade1be23a3d",
   "metadata": {},
   "source": [
    "### Concat all HIBP and Analyze"
   ]
  },
  {
   "cell_type": "code",
   "execution_count": 1,
   "id": "f5db6b26-317f-4daf-9d5b-7e4d384b7f31",
   "metadata": {},
   "outputs": [],
   "source": [
    "import glob\n",
    "import os\n",
    "import re\n",
    "import logging\n",
    "import pandas as pd\n",
    "import numpy as np\n",
    "from tqdm import tqdm\n",
    "from multiprocessing import Pool"
   ]
  },
  {
   "cell_type": "code",
   "execution_count": 2,
   "id": "91243c96-1c4b-4337-a104-f9841ae748a0",
   "metadata": {},
   "outputs": [
    {
     "name": "stderr",
     "output_type": "stream",
     "text": [
      "Processing JSON files:  85%|███████████████████████████████████████████████████████████████████████▌            | 989560/1162292 [21:53<02:34, 1116.48file/s]IOStream.flush timed out\n",
      "Processing JSON files: 100%|████████████████████████████████████████████████████████████████████████████████████| 1162292/1162292 [25:25<00:00, 761.83file/s]\n"
     ]
    }
   ],
   "source": [
    "# Directory path containing JSON files\n",
    "directory = 'pwned/'\n",
    "\n",
    "logging.basicConfig(filename='error_log_read_json.log', level=logging.ERROR,\n",
    "                    format='%(asctime)s - %(levelname)s - %(message)s')\n",
    "\n",
    "# Get list of JSON file paths in the directory\n",
    "json_files = glob.glob(directory + '/*.json')\n",
    "\n",
    "# Define a function for processing a JSON file\n",
    "def process_json_file(file):\n",
    "    try:\n",
    "        df = pd.read_json(file)\n",
    "        file_name = os.path.basename(file).rstrip('.json')\n",
    "        df['email'] = file_name\n",
    "        return df\n",
    "    except ValueError as e:\n",
    "        logging.error(f\"Error reading file: {file}. Error message: {e}\")\n",
    "        return None\n",
    "\n",
    "# Create a pool of worker processes\n",
    "pool = Pool()\n",
    "\n",
    "# Create a progress bar with tqdm\n",
    "progress_bar = tqdm(total=len(json_files), desc=\"Processing JSON files\", unit=\"file\")\n",
    "\n",
    "# Process JSON files in parallel\n",
    "results = []\n",
    "for df in pool.imap_unordered(process_json_file, json_files):\n",
    "    results.append(df)\n",
    "    progress_bar.update(1)\n",
    "\n",
    "# Close the pool of worker processes\n",
    "pool.close()\n",
    "pool.join()\n",
    "\n",
    "# Close the progress bar\n",
    "progress_bar.close()"
   ]
  },
  {
   "cell_type": "code",
   "execution_count": 3,
   "id": "652c7b05-380b-4b7c-829c-d9a41926fff1",
   "metadata": {},
   "outputs": [],
   "source": [
    "# Concatenate the list of DataFrames into a single DataFrame\n",
    "combined_df = pd.concat(results, ignore_index=True)\n",
    "del results"
   ]
  },
  {
   "cell_type": "code",
   "execution_count": 4,
   "id": "3e170234-2316-4b26-b101-5b9cecb29220",
   "metadata": {},
   "outputs": [],
   "source": [
    "breaches = pd.read_json('data/breaches.json')"
   ]
  },
  {
   "cell_type": "code",
   "execution_count": 5,
   "id": "e037b515-8279-4413-a88a-491163fb3b09",
   "metadata": {},
   "outputs": [
    {
     "data": {
      "text/plain": [
       "(8643150, 17)"
      ]
     },
     "execution_count": 5,
     "metadata": {},
     "output_type": "execute_result"
    }
   ],
   "source": [
    "breached_email_df = pd.merge(combined_df, breaches, on='Name')\n",
    "breached_email_df.shape"
   ]
  },
  {
   "cell_type": "markdown",
   "id": "d785bbfc-e7ab-41ac-a5e9-80b878b2f738",
   "metadata": {},
   "source": [
    "### Let's create an email level dataset for which we have breaches"
   ]
  },
  {
   "cell_type": "markdown",
   "id": "f6568e14-914f-4b02-916b-0b8646c257ab",
   "metadata": {},
   "source": [
    "#### Non-fab\n",
    "https://haveibeenpwned.com/FAQs#FabricatedBreach"
   ]
  },
  {
   "cell_type": "code",
   "execution_count": 6,
   "id": "7a123c0e-ddb8-47f3-83d9-39d21920bb50",
   "metadata": {},
   "outputs": [],
   "source": [
    "breached_email_df['non_fab'] = ~breached_email_df['IsFabricated'].fillna(1)"
   ]
  },
  {
   "cell_type": "markdown",
   "id": "5e4142c6-d05f-47da-89ea-ed43c6b186b4",
   "metadata": {},
   "source": [
    "#### Serious Dataclasses Breached \n",
    "Either data that will help you hack your other accounts, e.g., Mother's Maiden Name, or sensitive personal information"
   ]
  },
  {
   "cell_type": "code",
   "execution_count": 7,
   "id": "ed7c97c3-fc95-4be8-bae1-e74465de5973",
   "metadata": {},
   "outputs": [],
   "source": [
    "serious_dataclasses = [\"Audio recordings\",\n",
    "\"Auth tokens\", #account cracking\n",
    "\"Bank account numbers\",\n",
    "\"Biometric data\",\n",
    "\"Browsing histories\",\n",
    "\"Chat logs\",\n",
    "\"Credit card CVV\", #fin\n",
    "\"Credit cards\", #fin\n",
    "#\"Credit status information\", # don't know what this means\n",
    "\"Drinking habits\",\n",
    "\"Driver's licenses\",\n",
    "\"Drug habits\",\n",
    "\"Email messages\",\n",
    "\"Encrypted keys\", #account cracking\n",
    "\"Government issued IDs\",\n",
    "#\"Health insurance information\",\n",
    "\"Historical passwords\", #account cracking\n",
    "\"HIV statuses\",\n",
    "#\"Mothers maiden names\", #account cracking\n",
    "\"Partial credit card data\", #fin\n",
    "\"Passport numbers\",\n",
    "\"Password hints\",\n",
    "\"Passwords\", #account cracking\n",
    "\"Personal health data\",\n",
    "\"Photos\",\n",
    "\"PINs\", #account cracking\n",
    "\"Places of birth\", #account cracking\n",
    "\"Private messages\",\n",
    "\"Security questions and answers\", #account cracking\n",
    "\"Sexual fetishes\",\n",
    "\"Sexual orientations\",\n",
    "\"SMS messages\",\n",
    "\"Social security numbers\",\n",
    "\"Taxation records\"]"
   ]
  },
  {
   "cell_type": "code",
   "execution_count": 8,
   "id": "544f4506-c21a-49c2-ad78-084a5b31a0e8",
   "metadata": {},
   "outputs": [],
   "source": [
    "breached_email_df['serious'] = breached_email_df['DataClasses'].apply(lambda x: any(string in x for string in serious_dataclasses))"
   ]
  },
  {
   "cell_type": "code",
   "execution_count": 9,
   "id": "4900d65b-76bb-40cd-8b09-d88409656c11",
   "metadata": {},
   "outputs": [],
   "source": [
    "br_email_df = breached_email_df.assign(count=1).\\\n",
    "    groupby('email').\\\n",
    "    agg(total_breaches = ('count', 'sum'),\n",
    "    serious_breaches   = ('serious', 'sum'),\n",
    "    non_fab_breaches   = ('non_fab', 'sum'),\n",
    "    non_null_uniques   = ('Name', 'nunique')\n",
    ").reset_index()"
   ]
  },
  {
   "cell_type": "markdown",
   "id": "78c11ade-cc44-44fb-9b7f-422ac4435aa5",
   "metadata": {},
   "source": [
    "### Join to Valid Email List"
   ]
  },
  {
   "cell_type": "code",
   "execution_count": 10,
   "id": "2dc66c78-1197-4235-ae0b-f39ca85c10fa",
   "metadata": {},
   "outputs": [],
   "source": [
    "valid_emails = pd.read_csv(\"data/fl_valid_emails.csv\")\n",
    "# can also do less strict is_valid_email\n",
    "valid_emails = valid_emails[valid_emails['is_valid_email_dns'] == True] "
   ]
  },
  {
   "cell_type": "code",
   "execution_count": 11,
   "id": "70fef74e-2994-4288-8231-8f046cd4c452",
   "metadata": {},
   "outputs": [],
   "source": [
    "# Merge breaches to parsed\n",
    "valid_emails['email'] = valid_emails['email'].str.lower()\n",
    "br_email_df['email']  = br_email_df['email'].str.lower()\n",
    "fin_df = pd.merge(valid_emails, br_email_df, how = 'left', on = 'email')"
   ]
  },
  {
   "cell_type": "code",
   "execution_count": 12,
   "id": "1dd0f17e-72e6-4a04-9be0-bf97282143f1",
   "metadata": {},
   "outputs": [],
   "source": [
    "fin_df.fillna({'total_breaches': 0, \n",
    "               'serious_breaches': 0,\n",
    "               'non_fab_breaches': 0,\n",
    "               'non_null_uniques': 0}, inplace = True)"
   ]
  },
  {
   "cell_type": "code",
   "execution_count": 13,
   "id": "41f96b33-91b6-4860-b77f-ce5813a32801",
   "metadata": {},
   "outputs": [
    {
     "data": {
      "text/html": [
       "<div>\n",
       "<style scoped>\n",
       "    .dataframe tbody tr th:only-of-type {\n",
       "        vertical-align: middle;\n",
       "    }\n",
       "\n",
       "    .dataframe tbody tr th {\n",
       "        vertical-align: top;\n",
       "    }\n",
       "\n",
       "    .dataframe thead th {\n",
       "        text-align: right;\n",
       "    }\n",
       "</style>\n",
       "<table border=\"1\" class=\"dataframe\">\n",
       "  <thead>\n",
       "    <tr style=\"text-align: right;\">\n",
       "      <th></th>\n",
       "      <th>total_breaches</th>\n",
       "      <th>serious_breaches</th>\n",
       "      <th>non_fab_breaches</th>\n",
       "      <th>non_null_uniques</th>\n",
       "    </tr>\n",
       "  </thead>\n",
       "  <tbody>\n",
       "    <tr>\n",
       "      <th>count</th>\n",
       "      <td>1348186.0</td>\n",
       "      <td>1348186.0</td>\n",
       "      <td>1348186.0</td>\n",
       "      <td>1348186.0</td>\n",
       "    </tr>\n",
       "    <tr>\n",
       "      <th>mean</th>\n",
       "      <td>6.2</td>\n",
       "      <td>3.7</td>\n",
       "      <td>6.2</td>\n",
       "      <td>6.2</td>\n",
       "    </tr>\n",
       "    <tr>\n",
       "      <th>std</th>\n",
       "      <td>5.9</td>\n",
       "      <td>3.9</td>\n",
       "      <td>5.9</td>\n",
       "      <td>5.9</td>\n",
       "    </tr>\n",
       "    <tr>\n",
       "      <th>min</th>\n",
       "      <td>0.0</td>\n",
       "      <td>0.0</td>\n",
       "      <td>0.0</td>\n",
       "      <td>0.0</td>\n",
       "    </tr>\n",
       "    <tr>\n",
       "      <th>25%</th>\n",
       "      <td>1.0</td>\n",
       "      <td>1.0</td>\n",
       "      <td>1.0</td>\n",
       "      <td>1.0</td>\n",
       "    </tr>\n",
       "    <tr>\n",
       "      <th>50%</th>\n",
       "      <td>5.0</td>\n",
       "      <td>3.0</td>\n",
       "      <td>5.0</td>\n",
       "      <td>5.0</td>\n",
       "    </tr>\n",
       "    <tr>\n",
       "      <th>75%</th>\n",
       "      <td>10.0</td>\n",
       "      <td>6.0</td>\n",
       "      <td>10.0</td>\n",
       "      <td>10.0</td>\n",
       "    </tr>\n",
       "    <tr>\n",
       "      <th>max</th>\n",
       "      <td>390.0</td>\n",
       "      <td>333.0</td>\n",
       "      <td>389.0</td>\n",
       "      <td>390.0</td>\n",
       "    </tr>\n",
       "  </tbody>\n",
       "</table>\n",
       "</div>"
      ],
      "text/plain": [
       "       total_breaches  serious_breaches  non_fab_breaches  non_null_uniques\n",
       "count       1348186.0         1348186.0         1348186.0         1348186.0\n",
       "mean              6.2               3.7               6.2               6.2\n",
       "std               5.9               3.9               5.9               5.9\n",
       "min               0.0               0.0               0.0               0.0\n",
       "25%               1.0               1.0               1.0               1.0\n",
       "50%               5.0               3.0               5.0               5.0\n",
       "75%              10.0               6.0              10.0              10.0\n",
       "max             390.0             333.0             389.0             390.0"
      ]
     },
     "execution_count": 13,
     "metadata": {},
     "output_type": "execute_result"
    }
   ],
   "source": [
    "fin_df[['total_breaches', 'serious_breaches', 'non_fab_breaches', 'non_null_uniques']].describe().round(1)"
   ]
  },
  {
   "cell_type": "code",
   "execution_count": 14,
   "id": "9572cf99-d55e-4d75-9a1a-5486bb90dd0c",
   "metadata": {},
   "outputs": [
    {
     "data": {
      "text/plain": [
       "'|       |   total_breaches |   serious_breaches |   non_fab_breaches |   non_null_uniques |\\n|:------|-----------------:|-------------------:|-------------------:|-------------------:|\\n| count |      1.34819e+06 |        1.34819e+06 |        1.34819e+06 |        1.34819e+06 |\\n| mean  |      6.22427     |        3.65431     |        6.22425     |        6.22427     |\\n| std   |      5.865       |        3.90145     |        5.86484     |        5.865       |\\n| min   |      0           |        0           |        0           |        0           |\\n| 25%   |      1           |        1           |        1           |        1           |\\n| 50%   |      5           |        3           |        5           |        5           |\\n| 75%   |     10           |        6           |       10           |       10           |\\n| max   |    390           |      333           |      389           |      390           |'"
      ]
     },
     "execution_count": 14,
     "metadata": {},
     "output_type": "execute_result"
    }
   ],
   "source": [
    "fin_df[['total_breaches', 'serious_breaches', 'non_fab_breaches', 'non_null_uniques']].describe().to_markdown()"
   ]
  },
  {
   "cell_type": "code",
   "execution_count": 15,
   "id": "cec5b8a8-3378-429c-8cd4-ecea4d3a3709",
   "metadata": {},
   "outputs": [
    {
     "data": {
      "text/plain": [
       "0.8392714358404553"
      ]
     },
     "execution_count": 15,
     "metadata": {},
     "output_type": "execute_result"
    }
   ],
   "source": [
    "(fin_df['total_breaches'] > 0).mean()"
   ]
  },
  {
   "cell_type": "markdown",
   "id": "ff50550c-a52e-462a-8f28-b0188881e36c",
   "metadata": {},
   "source": [
    "### Digital Gap: Sociodemographic Predictors of Breaches"
   ]
  },
  {
   "cell_type": "code",
   "execution_count": 16,
   "id": "9de7c56f-3abc-44f9-ad1b-8bf7e368a2c0",
   "metadata": {},
   "outputs": [],
   "source": [
    "def calculate_summary_statistics(data_df, groupby_column, value_column, percentiles=None):\n",
    "    \"\"\"\n",
    "    Calculate summary statistics for a given DataFrame.\n",
    "\n",
    "    Parameters:\n",
    "        data_df (DataFrame): The DataFrame containing the data.\n",
    "        groupby_column (str): The column to group by.\n",
    "        value_column (str): The column for which to calculate statistics.\n",
    "        percentiles (list, optional): List of percentiles to calculate. Default is None.\n",
    "\n",
    "    Returns:\n",
    "        DataFrame: A DataFrame with the summary statistics.\n",
    "    \"\"\"\n",
    "    if percentiles is None:\n",
    "        percentiles = [25, 50, 75]\n",
    "\n",
    "    # Calculate summary statistics\n",
    "    summary_stats = data_df.groupby(groupby_column)[value_column].agg(['count', 'mean', 'std', 'min', 'max']).round(1)\n",
    "\n",
    "    # Calculate percentile values\n",
    "    percentile_values = data_df.groupby(groupby_column)[value_column].apply(lambda x: pd.Series(np.nanpercentile(x, percentiles), index=percentiles)).unstack().round(1)\n",
    "\n",
    "    # Merge summary statistics and percentile values\n",
    "    summary_with_percentiles = pd.merge(summary_stats, percentile_values, left_index=True, right_index=True)\n",
    "\n",
    "    # Reorder columns\n",
    "    desired_columns = ['count', 'mean', 'std', 'min'] + percentiles + ['max']\n",
    "    summary_with_percentiles = summary_with_percentiles.reindex(columns=desired_columns).reset_index()\n",
    "\n",
    "    return summary_with_percentiles"
   ]
  },
  {
   "cell_type": "code",
   "execution_count": 17,
   "id": "b7f3c3fa-07ef-4d76-8287-7ed63c60d37b",
   "metadata": {},
   "outputs": [
    {
     "name": "stdout",
     "output_type": "stream",
     "text": [
      "  gender   count  mean  std  min   25   50    75    max\n",
      "0      F  721828   6.4  5.8  0.0  2.0  5.0  10.0  157.0\n",
      "1      M  605040   6.0  5.9  0.0  1.0  5.0   9.0  390.0\n",
      "2      U   21296   4.8  6.0  0.0  0.0  3.0   7.0  265.0\n"
     ]
    }
   ],
   "source": [
    "gen_sum = calculate_summary_statistics(fin_df, \n",
    "                                   groupby_column='gender', \n",
    "                                   value_column='total_breaches',\n",
    "                                   percentiles = [25, 50, 75])\n",
    "print(gen_sum)"
   ]
  },
  {
   "cell_type": "code",
   "execution_count": 18,
   "id": "6f56a497-bfbf-4a4c-a14b-fdc68121ef71",
   "metadata": {},
   "outputs": [
    {
     "data": {
      "text/plain": [
       "'|    | gender   |   count |   mean |   std |   min |   25 |   50 |   75 |   max |\\n|---:|:---------|--------:|-------:|------:|------:|-----:|-----:|-----:|------:|\\n|  0 | F        |  721828 |    6.4 |   5.8 |     0 |    2 |    5 |   10 |   157 |\\n|  1 | M        |  605040 |    6   |   5.9 |     0 |    1 |    5 |    9 |   390 |\\n|  2 | U        |   21296 |    4.8 |   6   |     0 |    0 |    3 |    7 |   265 |'"
      ]
     },
     "execution_count": 18,
     "metadata": {},
     "output_type": "execute_result"
    }
   ],
   "source": [
    "gen_sum.to_markdown()"
   ]
  },
  {
   "cell_type": "code",
   "execution_count": 19,
   "id": "4fb5a893-0b67-4391-adff-f7085af46ed6",
   "metadata": {},
   "outputs": [
    {
     "name": "stdout",
     "output_type": "stream",
     "text": [
      "           race_lit   count  mean  std  min   25   50    75    max\n",
      "0             Asian   30518   5.9  5.8  0.0  1.0  4.0   9.0  154.0\n",
      "1          Hispanic  317399   5.8  5.7  0.0  1.0  4.0   9.0  210.0\n",
      "2      Multi-Racial   10046   5.7  5.8  0.0  1.0  4.0   9.0  145.0\n",
      "3          NH Black  184947   5.8  5.7  0.0  1.0  5.0   9.0  265.0\n",
      "4          NH White  750527   6.5  6.0  0.0  2.0  5.0  10.0  390.0\n",
      "5  Native Americans    3764   5.8  5.7  0.0  1.0  4.0   9.0   42.0\n",
      "6             Other   27028   6.2  5.9  0.0  1.0  5.0   9.0  123.0\n",
      "7           Unknown   23957   5.3  5.6  0.0  1.0  4.0   8.0  195.0\n"
     ]
    }
   ],
   "source": [
    "race_sum = calculate_summary_statistics(fin_df, \n",
    "                                   groupby_column='race_lit', \n",
    "                                   value_column='total_breaches',\n",
    "                                   percentiles = [25, 50, 75])\n",
    "print(race_sum)"
   ]
  },
  {
   "cell_type": "code",
   "execution_count": 20,
   "id": "2c06be44-368d-44ed-b277-be4be421e7a5",
   "metadata": {},
   "outputs": [
    {
     "data": {
      "text/plain": [
       "'|    | race_lit         |   count |   mean |   std |   min |   25 |   50 |   75 |   max |\\n|---:|:-----------------|--------:|-------:|------:|------:|-----:|-----:|-----:|------:|\\n|  0 | Asian            |   30518 |    5.9 |   5.8 |     0 |    1 |    4 |    9 |   154 |\\n|  1 | Hispanic         |  317399 |    5.8 |   5.7 |     0 |    1 |    4 |    9 |   210 |\\n|  2 | Multi-Racial     |   10046 |    5.7 |   5.8 |     0 |    1 |    4 |    9 |   145 |\\n|  3 | NH Black         |  184947 |    5.8 |   5.7 |     0 |    1 |    5 |    9 |   265 |\\n|  4 | NH White         |  750527 |    6.5 |   6   |     0 |    2 |    5 |   10 |   390 |\\n|  5 | Native Americans |    3764 |    5.8 |   5.7 |     0 |    1 |    4 |    9 |    42 |\\n|  6 | Other            |   27028 |    6.2 |   5.9 |     0 |    1 |    5 |    9 |   123 |\\n|  7 | Unknown          |   23957 |    5.3 |   5.6 |     0 |    1 |    4 |    8 |   195 |'"
      ]
     },
     "execution_count": 20,
     "metadata": {},
     "output_type": "execute_result"
    }
   ],
   "source": [
    "race_sum.to_markdown()"
   ]
  },
  {
   "cell_type": "code",
   "execution_count": 21,
   "id": "b0acd0ff-e533-4020-9422-ee6ac297de6b",
   "metadata": {},
   "outputs": [
    {
     "data": {
      "text/plain": [
       "age_lab\n",
       "25--50    596147\n",
       "50--65    330168\n",
       "65+       255495\n",
       "<25       166376\n",
       "Name: count, dtype: int64"
      ]
     },
     "execution_count": 21,
     "metadata": {},
     "output_type": "execute_result"
    }
   ],
   "source": [
    "# Recode Age\n",
    "\n",
    "fin_df['age'] = 2022 - pd.to_datetime(fin_df['birth_yr'], format='%m/%d/%Y').dt.year\n",
    "age_buckets = [0, 25, 50, 65, 120]\n",
    "labels = ['<25', '25--50', '50--65', '65+'] \n",
    "\n",
    "fin_df['age_lab'] = pd.cut(fin_df['age'], bins = age_buckets, labels = labels)\n",
    "fin_df['age_lab'].value_counts()"
   ]
  },
  {
   "cell_type": "code",
   "execution_count": 22,
   "id": "5fd95008-3484-43b1-a981-614bab72e7b9",
   "metadata": {},
   "outputs": [
    {
     "name": "stdout",
     "output_type": "stream",
     "text": [
      "  age_lab   count  mean  std  min   25   50    75    max\n",
      "0     <25  166376   4.6  4.9  0.0  1.0  3.0   7.0  265.0\n",
      "1  25--50  596147   6.6  5.9  0.0  2.0  5.0  10.0  390.0\n",
      "2  50--65  330168   6.6  6.1  0.0  2.0  5.0  10.0  210.0\n",
      "3     65+  255495   5.8  5.7  0.0  1.0  4.0   9.0  234.0\n"
     ]
    }
   ],
   "source": [
    "print(calculate_summary_statistics(fin_df, \n",
    "                                   groupby_column='age_lab', \n",
    "                                   value_column='total_breaches',\n",
    "                                   percentiles = [25, 50, 75]))"
   ]
  },
  {
   "cell_type": "code",
   "execution_count": 27,
   "id": "40abe06b-4056-4935-9487-b815f86b10b5",
   "metadata": {},
   "outputs": [
    {
     "data": {
      "image/png": "[encoded data removed]",
      "text/plain": [
       "<Figure size 720x432 with 1 Axes>"
      ]
     },
     "metadata": {},
     "output_type": "display_data"
    }
   ],
   "source": [
    "import matplotlib.pyplot as plt\n",
    "import statsmodels.api as sm\n",
    "import seaborn as sns\n",
    "from matplotlib.ticker import MultipleLocator\n",
    "\n",
    "lowess = sm.nonparametric.lowess\n",
    "\n",
    "lowess_model = lowess(fin_df['total_breaches'], fin_df['age'], frac=0.07)\n",
    "\n",
    "# Create the plot using seaborn and matplotlib\n",
    "sns.set_style(\"whitegrid\")  # Set the plot style\n",
    "plt.figure(figsize=(10, 6))\n",
    "plt.plot(lowess_model[:, 0], lowess_model[:, 1], color='red', linewidth=2)\n",
    "\n",
    "plt.xlabel('Age', fontsize=14)\n",
    "plt.ylabel('Total Breaches', fontsize=14)\n",
    "plt.title('Lowess Smoothed Plot of Breaches', fontsize=16)\n",
    "plt.legend(fontsize=12)\n",
    "\n",
    "# Adjust tick label sizes\n",
    "plt.xticks(fontsize=12)\n",
    "plt.yticks(fontsize=12)\n",
    "\n",
    "plt.gca().xaxis.set_major_locator(MultipleLocator(base=10))\n",
    "plt.xlim(min(fin_df['age']), max(fin_df['age']))\n",
    "\n",
    "# Add a light gray background to the plot\n",
    "plt.gca().set_facecolor('#f0f0f0')\n",
    "\n",
    "# Remove right and top spines\n",
    "plt.gca().spines['right'].set_visible(False)\n",
    "plt.gca().spines['top'].set_visible(False)\n",
    "\n",
    "\n",
    "plt.tight_layout()\n",
    "\n",
    "plt.savefig('figs/age_breaches.png', dpi=300)\n",
    "plt.show()"
   ]
  },
  {
   "cell_type": "code",
   "execution_count": 26,
   "id": "56cbe4ac-9394-4c4b-afac-e7a0f0811eba",
   "metadata": {},
   "outputs": [
    {
     "data": {
      "image/png": "[encoded data removed]",
      "text/plain": [
       "<Figure size 720x432 with 1 Axes>"
      ]
     },
     "metadata": {},
     "output_type": "display_data"
    }
   ],
   "source": [
    "# Let's winsorize or we can lowess over medians\n",
    "from scipy.stats.mstats import winsorize\n",
    "winsorized_breaches = winsorize(fin_df['total_breaches'], limits=(0.0, 0.2))\n",
    "\n",
    "lowess_model = lowess(winsorized_breaches, fin_df['age'], frac=0.07)\n",
    "\n",
    "# Create the plot using seaborn and matplotlib\n",
    "sns.set_style(\"whitegrid\")  # Set the plot style\n",
    "plt.figure(figsize=(10, 6))\n",
    "plt.plot(lowess_model[:, 0], lowess_model[:, 1], color='red', linewidth=2)\n",
    "\n",
    "plt.xlabel('Age', fontsize=14)\n",
    "plt.ylabel('Total Breaches (Winsorized)', fontsize=14)\n",
    "plt.title('Lowess Smoothed Plot of Winsorized Breaches', fontsize=16)\n",
    "plt.legend(fontsize=12)\n",
    "\n",
    "# Adjust tick label sizes\n",
    "plt.xticks(fontsize=12)\n",
    "plt.yticks(fontsize=12)\n",
    "\n",
    "plt.gca().xaxis.set_major_locator(MultipleLocator(base=10))\n",
    "plt.xlim(min(fin_df['age']), max(fin_df['age']))\n",
    "\n",
    "# Add a light gray background to the plot\n",
    "plt.gca().set_facecolor('#f0f0f0')\n",
    "\n",
    "# Remove right and top spines\n",
    "plt.gca().spines['right'].set_visible(False)\n",
    "plt.gca().spines['top'].set_visible(False)\n",
    "\n",
    "\n",
    "plt.tight_layout()\n",
    "\n",
    "plt.savefig('figs/age_winsorized_breaches.png', dpi=300)\n",
    "plt.show()"
   ]
  },
  {
   "cell_type": "code",
   "execution_count": null,
   "id": "f94edd18-8805-43b0-b204-b2d71ef9506d",
   "metadata": {},
   "outputs": [],
   "source": []
  }
 ],
 "metadata": {
  "kernelspec": {
   "display_name": "Python 3 (ipykernel)",
   "language": "python",
   "name": "python3"
  },
  "language_info": {
   "codemirror_mode": {
    "name": "ipython",
    "version": 3
   },
   "file_extension": ".py",
   "mimetype": "text/x-python",
   "name": "python",
   "nbconvert_exporter": "python",
   "pygments_lexer": "ipython3",
   "version": "3.8.10"
  }
 },
 "nbformat": 4,
 "nbformat_minor": 5
}
